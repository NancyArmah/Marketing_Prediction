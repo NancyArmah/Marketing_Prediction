{
  "cells": [
    {
      "cell_type": "markdown",
      "metadata": {
        "id": "d3q9SjT9RGrF"
      },
      "source": [
        "# Import Libraries"
      ]
    },
    {
      "cell_type": "code",
      "execution_count": null,
      "metadata": {
        "id": "Dv8j1uAU57_p"
      },
      "outputs": [],
      "source": [
        "import pandas as pd\n",
        "import numpy as np\n",
        "from pandas import read_csv\n",
        "import matplotlib.pyplot as plt\n",
        "import seaborn as sns\n",
        "import scipy\n",
        "from scipy.stats import pearsonr,spearmanr\n",
        "from sklearn.model_selection import train_test_split\n",
        "from sklearn.model_selection import cross_val_score\n",
        "from sklearn.model_selection import KFold\n",
        "from sklearn.preprocessing import MinMaxScaler\n",
        "from sklearn.metrics import accuracy_score\n",
        "from sklearn.linear_model import LogisticRegression\n",
        "from sklearn.neighbors import KNeighborsClassifier\n",
        "from sklearn.tree import DecisionTreeClassifier\n",
        "from sklearn.ensemble import RandomForestClassifier\n",
        "from sklearn.svm import SVC\n",
        "from sklearn.naive_bayes import GaussianNB\n",
        "from sklearn.metrics import roc_auc_score, confusion_matrix, accuracy_score, recall_score, precision_score, f1_score, classification_report\n",
        "import warnings\n",
        "warnings.filterwarnings('ignore')\n"
      ]
    },
    {
      "cell_type": "markdown",
      "metadata": {
        "id": "8oFNMacrRN4x"
      },
      "source": [
        "# Read Data"
      ]
    },
    {
      "cell_type": "code",
      "execution_count": null,
      "metadata": {
        "id": "MjE4NpFj8mUj"
      },
      "outputs": [],
      "source": [
        "data=pd.read_csv('stircom.csv')"
      ]
    },
    {
      "cell_type": "code",
      "execution_count": null,
      "metadata": {
        "colab": {
          "base_uri": "https://localhost:8080/",
          "height": 270
        },
        "id": "eyqCh62s8uCr",
        "outputId": "52998fc1-5efc-4215-edf2-8561d5c2dd33"
      },
      "outputs": [
        {
          "output_type": "execute_result",
          "data": {
            "text/plain": [
              "         ID           town country  age         job   married  education  \\\n",
              "0  32390233        Bristol      UK   39  management   married   tertiary   \n",
              "1  41226029       Basildon      UK   53   housemaid   married    primary   \n",
              "2  85498057      Blackburn      UK   79     retired  divorced    primary   \n",
              "3  76539627         Oldham      UK   43    services    single  secondary   \n",
              "4  76290986  Middlesbrough      UK   35  technician    single  secondary   \n",
              "\n",
              "  arrears  current_balance housing has_tv_package last_contact  conn_tr  \\\n",
              "0      no            -1.90      no            yes      unknown        4   \n",
              "1      no             3.62      no             no     cellular        1   \n",
              "2      no            27.87      no             no    telephone        3   \n",
              "3      no             5.50     yes             no     cellular        3   \n",
              "4      no             3.44      no             no     cellular        2   \n",
              "\n",
              "   last_contact_this_campaign_day last_contact_this_campaign_month  \\\n",
              "0                              11                              jun   \n",
              "1                              28                              jul   \n",
              "2                              13                              jul   \n",
              "3                              13                              may   \n",
              "4                              27                              aug   \n",
              "\n",
              "   this_campaign  days_since_last_contact_previous_campaign  \\\n",
              "0              8                                         -1   \n",
              "1              2                                         -1   \n",
              "2              1                                        377   \n",
              "3              2                                         -1   \n",
              "4             16                                         -1   \n",
              "\n",
              "   contacted_during_previous_campaign outcome_previous_campaign  \\\n",
              "0                                   0                   unknown   \n",
              "1                                   0                   unknown   \n",
              "2                                   1                   success   \n",
              "3                                   0                   unknown   \n",
              "4                                   0                   unknown   \n",
              "\n",
              "  new_contract_this_campaign  \n",
              "0                        yes  \n",
              "1                        yes  \n",
              "2                        yes  \n",
              "3                         no  \n",
              "4                        yes  "
            ],
            "text/html": [
              "\n",
              "  <div id=\"df-146dab1c-0ecc-4f83-8f89-6a9e9f0c6d2c\">\n",
              "    <div class=\"colab-df-container\">\n",
              "      <div>\n",
              "<style scoped>\n",
              "    .dataframe tbody tr th:only-of-type {\n",
              "        vertical-align: middle;\n",
              "    }\n",
              "\n",
              "    .dataframe tbody tr th {\n",
              "        vertical-align: top;\n",
              "    }\n",
              "\n",
              "    .dataframe thead th {\n",
              "        text-align: right;\n",
              "    }\n",
              "</style>\n",
              "<table border=\"1\" class=\"dataframe\">\n",
              "  <thead>\n",
              "    <tr style=\"text-align: right;\">\n",
              "      <th></th>\n",
              "      <th>ID</th>\n",
              "      <th>town</th>\n",
              "      <th>country</th>\n",
              "      <th>age</th>\n",
              "      <th>job</th>\n",
              "      <th>married</th>\n",
              "      <th>education</th>\n",
              "      <th>arrears</th>\n",
              "      <th>current_balance</th>\n",
              "      <th>housing</th>\n",
              "      <th>has_tv_package</th>\n",
              "      <th>last_contact</th>\n",
              "      <th>conn_tr</th>\n",
              "      <th>last_contact_this_campaign_day</th>\n",
              "      <th>last_contact_this_campaign_month</th>\n",
              "      <th>this_campaign</th>\n",
              "      <th>days_since_last_contact_previous_campaign</th>\n",
              "      <th>contacted_during_previous_campaign</th>\n",
              "      <th>outcome_previous_campaign</th>\n",
              "      <th>new_contract_this_campaign</th>\n",
              "    </tr>\n",
              "  </thead>\n",
              "  <tbody>\n",
              "    <tr>\n",
              "      <th>0</th>\n",
              "      <td>32390233</td>\n",
              "      <td>Bristol</td>\n",
              "      <td>UK</td>\n",
              "      <td>39</td>\n",
              "      <td>management</td>\n",
              "      <td>married</td>\n",
              "      <td>tertiary</td>\n",
              "      <td>no</td>\n",
              "      <td>-1.90</td>\n",
              "      <td>no</td>\n",
              "      <td>yes</td>\n",
              "      <td>unknown</td>\n",
              "      <td>4</td>\n",
              "      <td>11</td>\n",
              "      <td>jun</td>\n",
              "      <td>8</td>\n",
              "      <td>-1</td>\n",
              "      <td>0</td>\n",
              "      <td>unknown</td>\n",
              "      <td>yes</td>\n",
              "    </tr>\n",
              "    <tr>\n",
              "      <th>1</th>\n",
              "      <td>41226029</td>\n",
              "      <td>Basildon</td>\n",
              "      <td>UK</td>\n",
              "      <td>53</td>\n",
              "      <td>housemaid</td>\n",
              "      <td>married</td>\n",
              "      <td>primary</td>\n",
              "      <td>no</td>\n",
              "      <td>3.62</td>\n",
              "      <td>no</td>\n",
              "      <td>no</td>\n",
              "      <td>cellular</td>\n",
              "      <td>1</td>\n",
              "      <td>28</td>\n",
              "      <td>jul</td>\n",
              "      <td>2</td>\n",
              "      <td>-1</td>\n",
              "      <td>0</td>\n",
              "      <td>unknown</td>\n",
              "      <td>yes</td>\n",
              "    </tr>\n",
              "    <tr>\n",
              "      <th>2</th>\n",
              "      <td>85498057</td>\n",
              "      <td>Blackburn</td>\n",
              "      <td>UK</td>\n",
              "      <td>79</td>\n",
              "      <td>retired</td>\n",
              "      <td>divorced</td>\n",
              "      <td>primary</td>\n",
              "      <td>no</td>\n",
              "      <td>27.87</td>\n",
              "      <td>no</td>\n",
              "      <td>no</td>\n",
              "      <td>telephone</td>\n",
              "      <td>3</td>\n",
              "      <td>13</td>\n",
              "      <td>jul</td>\n",
              "      <td>1</td>\n",
              "      <td>377</td>\n",
              "      <td>1</td>\n",
              "      <td>success</td>\n",
              "      <td>yes</td>\n",
              "    </tr>\n",
              "    <tr>\n",
              "      <th>3</th>\n",
              "      <td>76539627</td>\n",
              "      <td>Oldham</td>\n",
              "      <td>UK</td>\n",
              "      <td>43</td>\n",
              "      <td>services</td>\n",
              "      <td>single</td>\n",
              "      <td>secondary</td>\n",
              "      <td>no</td>\n",
              "      <td>5.50</td>\n",
              "      <td>yes</td>\n",
              "      <td>no</td>\n",
              "      <td>cellular</td>\n",
              "      <td>3</td>\n",
              "      <td>13</td>\n",
              "      <td>may</td>\n",
              "      <td>2</td>\n",
              "      <td>-1</td>\n",
              "      <td>0</td>\n",
              "      <td>unknown</td>\n",
              "      <td>no</td>\n",
              "    </tr>\n",
              "    <tr>\n",
              "      <th>4</th>\n",
              "      <td>76290986</td>\n",
              "      <td>Middlesbrough</td>\n",
              "      <td>UK</td>\n",
              "      <td>35</td>\n",
              "      <td>technician</td>\n",
              "      <td>single</td>\n",
              "      <td>secondary</td>\n",
              "      <td>no</td>\n",
              "      <td>3.44</td>\n",
              "      <td>no</td>\n",
              "      <td>no</td>\n",
              "      <td>cellular</td>\n",
              "      <td>2</td>\n",
              "      <td>27</td>\n",
              "      <td>aug</td>\n",
              "      <td>16</td>\n",
              "      <td>-1</td>\n",
              "      <td>0</td>\n",
              "      <td>unknown</td>\n",
              "      <td>yes</td>\n",
              "    </tr>\n",
              "  </tbody>\n",
              "</table>\n",
              "</div>\n",
              "      <button class=\"colab-df-convert\" onclick=\"convertToInteractive('df-146dab1c-0ecc-4f83-8f89-6a9e9f0c6d2c')\"\n",
              "              title=\"Convert this dataframe to an interactive table.\"\n",
              "              style=\"display:none;\">\n",
              "        \n",
              "  <svg xmlns=\"http://www.w3.org/2000/svg\" height=\"24px\"viewBox=\"0 0 24 24\"\n",
              "       width=\"24px\">\n",
              "    <path d=\"M0 0h24v24H0V0z\" fill=\"none\"/>\n",
              "    <path d=\"M18.56 5.44l.94 2.06.94-2.06 2.06-.94-2.06-.94-.94-2.06-.94 2.06-2.06.94zm-11 1L8.5 8.5l.94-2.06 2.06-.94-2.06-.94L8.5 2.5l-.94 2.06-2.06.94zm10 10l.94 2.06.94-2.06 2.06-.94-2.06-.94-.94-2.06-.94 2.06-2.06.94z\"/><path d=\"M17.41 7.96l-1.37-1.37c-.4-.4-.92-.59-1.43-.59-.52 0-1.04.2-1.43.59L10.3 9.45l-7.72 7.72c-.78.78-.78 2.05 0 2.83L4 21.41c.39.39.9.59 1.41.59.51 0 1.02-.2 1.41-.59l7.78-7.78 2.81-2.81c.8-.78.8-2.07 0-2.86zM5.41 20L4 18.59l7.72-7.72 1.47 1.35L5.41 20z\"/>\n",
              "  </svg>\n",
              "      </button>\n",
              "      \n",
              "  <style>\n",
              "    .colab-df-container {\n",
              "      display:flex;\n",
              "      flex-wrap:wrap;\n",
              "      gap: 12px;\n",
              "    }\n",
              "\n",
              "    .colab-df-convert {\n",
              "      background-color: #E8F0FE;\n",
              "      border: none;\n",
              "      border-radius: 50%;\n",
              "      cursor: pointer;\n",
              "      display: none;\n",
              "      fill: #1967D2;\n",
              "      height: 32px;\n",
              "      padding: 0 0 0 0;\n",
              "      width: 32px;\n",
              "    }\n",
              "\n",
              "    .colab-df-convert:hover {\n",
              "      background-color: #E2EBFA;\n",
              "      box-shadow: 0px 1px 2px rgba(60, 64, 67, 0.3), 0px 1px 3px 1px rgba(60, 64, 67, 0.15);\n",
              "      fill: #174EA6;\n",
              "    }\n",
              "\n",
              "    [theme=dark] .colab-df-convert {\n",
              "      background-color: #3B4455;\n",
              "      fill: #D2E3FC;\n",
              "    }\n",
              "\n",
              "    [theme=dark] .colab-df-convert:hover {\n",
              "      background-color: #434B5C;\n",
              "      box-shadow: 0px 1px 3px 1px rgba(0, 0, 0, 0.15);\n",
              "      filter: drop-shadow(0px 1px 2px rgba(0, 0, 0, 0.3));\n",
              "      fill: #FFFFFF;\n",
              "    }\n",
              "  </style>\n",
              "\n",
              "      <script>\n",
              "        const buttonEl =\n",
              "          document.querySelector('#df-146dab1c-0ecc-4f83-8f89-6a9e9f0c6d2c button.colab-df-convert');\n",
              "        buttonEl.style.display =\n",
              "          google.colab.kernel.accessAllowed ? 'block' : 'none';\n",
              "\n",
              "        async function convertToInteractive(key) {\n",
              "          const element = document.querySelector('#df-146dab1c-0ecc-4f83-8f89-6a9e9f0c6d2c');\n",
              "          const dataTable =\n",
              "            await google.colab.kernel.invokeFunction('convertToInteractive',\n",
              "                                                     [key], {});\n",
              "          if (!dataTable) return;\n",
              "\n",
              "          const docLinkHtml = 'Like what you see? Visit the ' +\n",
              "            '<a target=\"_blank\" href=https://colab.research.google.com/notebooks/data_table.ipynb>data table notebook</a>'\n",
              "            + ' to learn more about interactive tables.';\n",
              "          element.innerHTML = '';\n",
              "          dataTable['output_type'] = 'display_data';\n",
              "          await google.colab.output.renderOutput(dataTable, element);\n",
              "          const docLink = document.createElement('div');\n",
              "          docLink.innerHTML = docLinkHtml;\n",
              "          element.appendChild(docLink);\n",
              "        }\n",
              "      </script>\n",
              "    </div>\n",
              "  </div>\n",
              "  "
            ]
          },
          "metadata": {},
          "execution_count": 56
        }
      ],
      "source": [
        "data.head()"
      ]
    },
    {
      "cell_type": "markdown",
      "metadata": {
        "id": "jxOPEolaRUhF"
      },
      "source": [
        "# EDA"
      ]
    },
    {
      "cell_type": "code",
      "execution_count": null,
      "metadata": {
        "colab": {
          "base_uri": "https://localhost:8080/",
          "height": 112
        },
        "id": "6weJtxUr8v-D",
        "outputId": "b0e3e55d-13cd-4990-dfbd-4c491fa2939b"
      },
      "outputs": [
        {
          "output_type": "display_data",
          "data": {
            "text/plain": [
              "     absolute  percent\n",
              "no      40763    80.46\n",
              "yes      9899    19.54"
            ],
            "text/html": [
              "\n",
              "  <div id=\"df-53a10d9c-f08c-4495-bc27-4060153bac50\">\n",
              "    <div class=\"colab-df-container\">\n",
              "      <div>\n",
              "<style scoped>\n",
              "    .dataframe tbody tr th:only-of-type {\n",
              "        vertical-align: middle;\n",
              "    }\n",
              "\n",
              "    .dataframe tbody tr th {\n",
              "        vertical-align: top;\n",
              "    }\n",
              "\n",
              "    .dataframe thead th {\n",
              "        text-align: right;\n",
              "    }\n",
              "</style>\n",
              "<table border=\"1\" class=\"dataframe\">\n",
              "  <thead>\n",
              "    <tr style=\"text-align: right;\">\n",
              "      <th></th>\n",
              "      <th>absolute</th>\n",
              "      <th>percent</th>\n",
              "    </tr>\n",
              "  </thead>\n",
              "  <tbody>\n",
              "    <tr>\n",
              "      <th>no</th>\n",
              "      <td>40763</td>\n",
              "      <td>80.46</td>\n",
              "    </tr>\n",
              "    <tr>\n",
              "      <th>yes</th>\n",
              "      <td>9899</td>\n",
              "      <td>19.54</td>\n",
              "    </tr>\n",
              "  </tbody>\n",
              "</table>\n",
              "</div>\n",
              "      <button class=\"colab-df-convert\" onclick=\"convertToInteractive('df-53a10d9c-f08c-4495-bc27-4060153bac50')\"\n",
              "              title=\"Convert this dataframe to an interactive table.\"\n",
              "              style=\"display:none;\">\n",
              "        \n",
              "  <svg xmlns=\"http://www.w3.org/2000/svg\" height=\"24px\"viewBox=\"0 0 24 24\"\n",
              "       width=\"24px\">\n",
              "    <path d=\"M0 0h24v24H0V0z\" fill=\"none\"/>\n",
              "    <path d=\"M18.56 5.44l.94 2.06.94-2.06 2.06-.94-2.06-.94-.94-2.06-.94 2.06-2.06.94zm-11 1L8.5 8.5l.94-2.06 2.06-.94-2.06-.94L8.5 2.5l-.94 2.06-2.06.94zm10 10l.94 2.06.94-2.06 2.06-.94-2.06-.94-.94-2.06-.94 2.06-2.06.94z\"/><path d=\"M17.41 7.96l-1.37-1.37c-.4-.4-.92-.59-1.43-.59-.52 0-1.04.2-1.43.59L10.3 9.45l-7.72 7.72c-.78.78-.78 2.05 0 2.83L4 21.41c.39.39.9.59 1.41.59.51 0 1.02-.2 1.41-.59l7.78-7.78 2.81-2.81c.8-.78.8-2.07 0-2.86zM5.41 20L4 18.59l7.72-7.72 1.47 1.35L5.41 20z\"/>\n",
              "  </svg>\n",
              "      </button>\n",
              "      \n",
              "  <style>\n",
              "    .colab-df-container {\n",
              "      display:flex;\n",
              "      flex-wrap:wrap;\n",
              "      gap: 12px;\n",
              "    }\n",
              "\n",
              "    .colab-df-convert {\n",
              "      background-color: #E8F0FE;\n",
              "      border: none;\n",
              "      border-radius: 50%;\n",
              "      cursor: pointer;\n",
              "      display: none;\n",
              "      fill: #1967D2;\n",
              "      height: 32px;\n",
              "      padding: 0 0 0 0;\n",
              "      width: 32px;\n",
              "    }\n",
              "\n",
              "    .colab-df-convert:hover {\n",
              "      background-color: #E2EBFA;\n",
              "      box-shadow: 0px 1px 2px rgba(60, 64, 67, 0.3), 0px 1px 3px 1px rgba(60, 64, 67, 0.15);\n",
              "      fill: #174EA6;\n",
              "    }\n",
              "\n",
              "    [theme=dark] .colab-df-convert {\n",
              "      background-color: #3B4455;\n",
              "      fill: #D2E3FC;\n",
              "    }\n",
              "\n",
              "    [theme=dark] .colab-df-convert:hover {\n",
              "      background-color: #434B5C;\n",
              "      box-shadow: 0px 1px 3px 1px rgba(0, 0, 0, 0.15);\n",
              "      filter: drop-shadow(0px 1px 2px rgba(0, 0, 0, 0.3));\n",
              "      fill: #FFFFFF;\n",
              "    }\n",
              "  </style>\n",
              "\n",
              "      <script>\n",
              "        const buttonEl =\n",
              "          document.querySelector('#df-53a10d9c-f08c-4495-bc27-4060153bac50 button.colab-df-convert');\n",
              "        buttonEl.style.display =\n",
              "          google.colab.kernel.accessAllowed ? 'block' : 'none';\n",
              "\n",
              "        async function convertToInteractive(key) {\n",
              "          const element = document.querySelector('#df-53a10d9c-f08c-4495-bc27-4060153bac50');\n",
              "          const dataTable =\n",
              "            await google.colab.kernel.invokeFunction('convertToInteractive',\n",
              "                                                     [key], {});\n",
              "          if (!dataTable) return;\n",
              "\n",
              "          const docLinkHtml = 'Like what you see? Visit the ' +\n",
              "            '<a target=\"_blank\" href=https://colab.research.google.com/notebooks/data_table.ipynb>data table notebook</a>'\n",
              "            + ' to learn more about interactive tables.';\n",
              "          element.innerHTML = '';\n",
              "          dataTable['output_type'] = 'display_data';\n",
              "          await google.colab.output.renderOutput(dataTable, element);\n",
              "          const docLink = document.createElement('div');\n",
              "          docLink.innerHTML = docLinkHtml;\n",
              "          element.appendChild(docLink);\n",
              "        }\n",
              "      </script>\n",
              "    </div>\n",
              "  </div>\n",
              "  "
            ]
          },
          "metadata": {}
        }
      ],
      "source": [
        "camapign = data.new_contract_this_campaign.value_counts().to_frame().rename(columns={\"new_contract_this_campaign\":\"absolute\"})\n",
        "camapign[\"percent\"] = (camapign.apply(lambda x: x/x.sum()*100).round(2))\n",
        "display(camapign)"
      ]
    },
    {
      "cell_type": "code",
      "execution_count": null,
      "metadata": {
        "colab": {
          "base_uri": "https://localhost:8080/"
        },
        "id": "8ja9IfsO-24H",
        "outputId": "1b27ab37-e175-4fbf-b13d-33a02dd31e75"
      },
      "outputs": [
        {
          "output_type": "execute_result",
          "data": {
            "text/plain": [
              "(50662, 20)"
            ]
          },
          "metadata": {},
          "execution_count": 58
        }
      ],
      "source": [
        "data.shape"
      ]
    },
    {
      "cell_type": "code",
      "execution_count": null,
      "metadata": {
        "colab": {
          "base_uri": "https://localhost:8080/"
        },
        "id": "2kKXL0zB-2u5",
        "outputId": "babf4af9-9741-45e8-cec5-cab49916cd7e"
      },
      "outputs": [
        {
          "output_type": "execute_result",
          "data": {
            "text/plain": [
              "ID                                           0\n",
              "town                                         0\n",
              "country                                      0\n",
              "age                                          0\n",
              "job                                          0\n",
              "married                                      0\n",
              "education                                    0\n",
              "arrears                                      0\n",
              "current_balance                              0\n",
              "housing                                      0\n",
              "has_tv_package                               0\n",
              "last_contact                                 0\n",
              "conn_tr                                      0\n",
              "last_contact_this_campaign_day               0\n",
              "last_contact_this_campaign_month             0\n",
              "this_campaign                                0\n",
              "days_since_last_contact_previous_campaign    0\n",
              "contacted_during_previous_campaign           0\n",
              "outcome_previous_campaign                    0\n",
              "new_contract_this_campaign                   0\n",
              "dtype: int64"
            ]
          },
          "metadata": {},
          "execution_count": 59
        }
      ],
      "source": [
        "data.isnull().sum()"
      ]
    },
    {
      "cell_type": "code",
      "execution_count": null,
      "metadata": {
        "colab": {
          "base_uri": "https://localhost:8080/"
        },
        "id": "lpwi7xSC-2n4",
        "outputId": "10cf7bf3-49c7-4d2e-8ce5-d831564094da"
      },
      "outputs": [
        {
          "output_type": "execute_result",
          "data": {
            "text/plain": [
              "Index(['ID', 'town', 'country', 'age', 'job', 'married', 'education',\n",
              "       'arrears', 'current_balance', 'housing', 'has_tv_package',\n",
              "       'last_contact', 'conn_tr', 'last_contact_this_campaign_day',\n",
              "       'last_contact_this_campaign_month', 'this_campaign',\n",
              "       'days_since_last_contact_previous_campaign',\n",
              "       'contacted_during_previous_campaign', 'outcome_previous_campaign',\n",
              "       'new_contract_this_campaign'],\n",
              "      dtype='object')"
            ]
          },
          "metadata": {},
          "execution_count": 60
        }
      ],
      "source": [
        "data.columns"
      ]
    },
    {
      "cell_type": "code",
      "execution_count": null,
      "metadata": {
        "colab": {
          "base_uri": "https://localhost:8080/"
        },
        "id": "pVcGiTt4-2fX",
        "outputId": "afb5a1c3-5a27-4ffc-ca0f-71d98aebfc68"
      },
      "outputs": [
        {
          "output_type": "execute_result",
          "data": {
            "text/plain": [
              "0"
            ]
          },
          "metadata": {},
          "execution_count": 61
        }
      ],
      "source": [
        "data.duplicated().sum()"
      ]
    },
    {
      "cell_type": "code",
      "execution_count": null,
      "metadata": {
        "colab": {
          "base_uri": "https://localhost:8080/"
        },
        "id": "o3ooRaJW-2Uo",
        "outputId": "5d2d2707-e11c-47dc-fe0b-356a4ffb9b8d"
      },
      "outputs": [
        {
          "output_type": "stream",
          "name": "stdout",
          "text": [
            "<class 'pandas.core.frame.DataFrame'>\n",
            "RangeIndex: 50662 entries, 0 to 50661\n",
            "Data columns (total 20 columns):\n",
            " #   Column                                     Non-Null Count  Dtype  \n",
            "---  ------                                     --------------  -----  \n",
            " 0   ID                                         50662 non-null  int64  \n",
            " 1   town                                       50662 non-null  object \n",
            " 2   country                                    50662 non-null  object \n",
            " 3   age                                        50662 non-null  int64  \n",
            " 4   job                                        50662 non-null  object \n",
            " 5   married                                    50662 non-null  object \n",
            " 6   education                                  50662 non-null  object \n",
            " 7   arrears                                    50662 non-null  object \n",
            " 8   current_balance                            50662 non-null  float64\n",
            " 9   housing                                    50662 non-null  object \n",
            " 10  has_tv_package                             50662 non-null  object \n",
            " 11  last_contact                               50662 non-null  object \n",
            " 12  conn_tr                                    50662 non-null  int64  \n",
            " 13  last_contact_this_campaign_day             50662 non-null  int64  \n",
            " 14  last_contact_this_campaign_month           50662 non-null  object \n",
            " 15  this_campaign                              50662 non-null  int64  \n",
            " 16  days_since_last_contact_previous_campaign  50662 non-null  int64  \n",
            " 17  contacted_during_previous_campaign         50662 non-null  int64  \n",
            " 18  outcome_previous_campaign                  50662 non-null  object \n",
            " 19  new_contract_this_campaign                 50662 non-null  object \n",
            "dtypes: float64(1), int64(7), object(12)\n",
            "memory usage: 7.7+ MB\n"
          ]
        }
      ],
      "source": [
        "data.info()"
      ]
    },
    {
      "cell_type": "code",
      "execution_count": null,
      "metadata": {
        "colab": {
          "base_uri": "https://localhost:8080/",
          "height": 364
        },
        "id": "KYYIu3cm-2BM",
        "outputId": "83b51857-4d66-4ab6-c304-4bab3dff963d"
      },
      "outputs": [
        {
          "output_type": "execute_result",
          "data": {
            "text/plain": [
              "                 ID           age  current_balance       conn_tr  \\\n",
              "count  5.066200e+04  50662.000000     50662.000000  50662.000000   \n",
              "mean   5.502871e+07     40.979373        13.991210      3.005093   \n",
              "std    2.598596e+07     10.919324        30.899163      1.409003   \n",
              "min    1.000073e+07     18.000000       -80.190000      1.000000   \n",
              "25%    3.249964e+07     32.000000         0.820000      2.000000   \n",
              "50%    5.501127e+07     39.000000         4.720000      3.000000   \n",
              "75%    7.748809e+07     48.000000        14.950000      4.000000   \n",
              "max    9.999952e+07     95.000000       984.170000      5.000000   \n",
              "\n",
              "       last_contact_this_campaign_day  this_campaign  \\\n",
              "count                    50662.000000   50662.000000   \n",
              "mean                        15.768525       2.713217   \n",
              "std                          8.347083       3.052227   \n",
              "min                          1.000000       1.000000   \n",
              "25%                          8.000000       1.000000   \n",
              "50%                         16.000000       2.000000   \n",
              "75%                         21.000000       3.000000   \n",
              "max                         31.000000      63.000000   \n",
              "\n",
              "       days_since_last_contact_previous_campaign  \\\n",
              "count                               50662.000000   \n",
              "mean                                   42.644408   \n",
              "std                                   102.238078   \n",
              "min                                    -1.000000   \n",
              "25%                                    -1.000000   \n",
              "50%                                    -1.000000   \n",
              "75%                                    -1.000000   \n",
              "max                                   871.000000   \n",
              "\n",
              "       contacted_during_previous_campaign  \n",
              "count                        50662.000000  \n",
              "mean                             0.640283  \n",
              "std                              2.358029  \n",
              "min                              0.000000  \n",
              "25%                              0.000000  \n",
              "50%                              0.000000  \n",
              "75%                              0.000000  \n",
              "max                            275.000000  "
            ],
            "text/html": [
              "\n",
              "  <div id=\"df-5536dbed-dec9-4940-a365-9c3562534e8d\">\n",
              "    <div class=\"colab-df-container\">\n",
              "      <div>\n",
              "<style scoped>\n",
              "    .dataframe tbody tr th:only-of-type {\n",
              "        vertical-align: middle;\n",
              "    }\n",
              "\n",
              "    .dataframe tbody tr th {\n",
              "        vertical-align: top;\n",
              "    }\n",
              "\n",
              "    .dataframe thead th {\n",
              "        text-align: right;\n",
              "    }\n",
              "</style>\n",
              "<table border=\"1\" class=\"dataframe\">\n",
              "  <thead>\n",
              "    <tr style=\"text-align: right;\">\n",
              "      <th></th>\n",
              "      <th>ID</th>\n",
              "      <th>age</th>\n",
              "      <th>current_balance</th>\n",
              "      <th>conn_tr</th>\n",
              "      <th>last_contact_this_campaign_day</th>\n",
              "      <th>this_campaign</th>\n",
              "      <th>days_since_last_contact_previous_campaign</th>\n",
              "      <th>contacted_during_previous_campaign</th>\n",
              "    </tr>\n",
              "  </thead>\n",
              "  <tbody>\n",
              "    <tr>\n",
              "      <th>count</th>\n",
              "      <td>5.066200e+04</td>\n",
              "      <td>50662.000000</td>\n",
              "      <td>50662.000000</td>\n",
              "      <td>50662.000000</td>\n",
              "      <td>50662.000000</td>\n",
              "      <td>50662.000000</td>\n",
              "      <td>50662.000000</td>\n",
              "      <td>50662.000000</td>\n",
              "    </tr>\n",
              "    <tr>\n",
              "      <th>mean</th>\n",
              "      <td>5.502871e+07</td>\n",
              "      <td>40.979373</td>\n",
              "      <td>13.991210</td>\n",
              "      <td>3.005093</td>\n",
              "      <td>15.768525</td>\n",
              "      <td>2.713217</td>\n",
              "      <td>42.644408</td>\n",
              "      <td>0.640283</td>\n",
              "    </tr>\n",
              "    <tr>\n",
              "      <th>std</th>\n",
              "      <td>2.598596e+07</td>\n",
              "      <td>10.919324</td>\n",
              "      <td>30.899163</td>\n",
              "      <td>1.409003</td>\n",
              "      <td>8.347083</td>\n",
              "      <td>3.052227</td>\n",
              "      <td>102.238078</td>\n",
              "      <td>2.358029</td>\n",
              "    </tr>\n",
              "    <tr>\n",
              "      <th>min</th>\n",
              "      <td>1.000073e+07</td>\n",
              "      <td>18.000000</td>\n",
              "      <td>-80.190000</td>\n",
              "      <td>1.000000</td>\n",
              "      <td>1.000000</td>\n",
              "      <td>1.000000</td>\n",
              "      <td>-1.000000</td>\n",
              "      <td>0.000000</td>\n",
              "    </tr>\n",
              "    <tr>\n",
              "      <th>25%</th>\n",
              "      <td>3.249964e+07</td>\n",
              "      <td>32.000000</td>\n",
              "      <td>0.820000</td>\n",
              "      <td>2.000000</td>\n",
              "      <td>8.000000</td>\n",
              "      <td>1.000000</td>\n",
              "      <td>-1.000000</td>\n",
              "      <td>0.000000</td>\n",
              "    </tr>\n",
              "    <tr>\n",
              "      <th>50%</th>\n",
              "      <td>5.501127e+07</td>\n",
              "      <td>39.000000</td>\n",
              "      <td>4.720000</td>\n",
              "      <td>3.000000</td>\n",
              "      <td>16.000000</td>\n",
              "      <td>2.000000</td>\n",
              "      <td>-1.000000</td>\n",
              "      <td>0.000000</td>\n",
              "    </tr>\n",
              "    <tr>\n",
              "      <th>75%</th>\n",
              "      <td>7.748809e+07</td>\n",
              "      <td>48.000000</td>\n",
              "      <td>14.950000</td>\n",
              "      <td>4.000000</td>\n",
              "      <td>21.000000</td>\n",
              "      <td>3.000000</td>\n",
              "      <td>-1.000000</td>\n",
              "      <td>0.000000</td>\n",
              "    </tr>\n",
              "    <tr>\n",
              "      <th>max</th>\n",
              "      <td>9.999952e+07</td>\n",
              "      <td>95.000000</td>\n",
              "      <td>984.170000</td>\n",
              "      <td>5.000000</td>\n",
              "      <td>31.000000</td>\n",
              "      <td>63.000000</td>\n",
              "      <td>871.000000</td>\n",
              "      <td>275.000000</td>\n",
              "    </tr>\n",
              "  </tbody>\n",
              "</table>\n",
              "</div>\n",
              "      <button class=\"colab-df-convert\" onclick=\"convertToInteractive('df-5536dbed-dec9-4940-a365-9c3562534e8d')\"\n",
              "              title=\"Convert this dataframe to an interactive table.\"\n",
              "              style=\"display:none;\">\n",
              "        \n",
              "  <svg xmlns=\"http://www.w3.org/2000/svg\" height=\"24px\"viewBox=\"0 0 24 24\"\n",
              "       width=\"24px\">\n",
              "    <path d=\"M0 0h24v24H0V0z\" fill=\"none\"/>\n",
              "    <path d=\"M18.56 5.44l.94 2.06.94-2.06 2.06-.94-2.06-.94-.94-2.06-.94 2.06-2.06.94zm-11 1L8.5 8.5l.94-2.06 2.06-.94-2.06-.94L8.5 2.5l-.94 2.06-2.06.94zm10 10l.94 2.06.94-2.06 2.06-.94-2.06-.94-.94-2.06-.94 2.06-2.06.94z\"/><path d=\"M17.41 7.96l-1.37-1.37c-.4-.4-.92-.59-1.43-.59-.52 0-1.04.2-1.43.59L10.3 9.45l-7.72 7.72c-.78.78-.78 2.05 0 2.83L4 21.41c.39.39.9.59 1.41.59.51 0 1.02-.2 1.41-.59l7.78-7.78 2.81-2.81c.8-.78.8-2.07 0-2.86zM5.41 20L4 18.59l7.72-7.72 1.47 1.35L5.41 20z\"/>\n",
              "  </svg>\n",
              "      </button>\n",
              "      \n",
              "  <style>\n",
              "    .colab-df-container {\n",
              "      display:flex;\n",
              "      flex-wrap:wrap;\n",
              "      gap: 12px;\n",
              "    }\n",
              "\n",
              "    .colab-df-convert {\n",
              "      background-color: #E8F0FE;\n",
              "      border: none;\n",
              "      border-radius: 50%;\n",
              "      cursor: pointer;\n",
              "      display: none;\n",
              "      fill: #1967D2;\n",
              "      height: 32px;\n",
              "      padding: 0 0 0 0;\n",
              "      width: 32px;\n",
              "    }\n",
              "\n",
              "    .colab-df-convert:hover {\n",
              "      background-color: #E2EBFA;\n",
              "      box-shadow: 0px 1px 2px rgba(60, 64, 67, 0.3), 0px 1px 3px 1px rgba(60, 64, 67, 0.15);\n",
              "      fill: #174EA6;\n",
              "    }\n",
              "\n",
              "    [theme=dark] .colab-df-convert {\n",
              "      background-color: #3B4455;\n",
              "      fill: #D2E3FC;\n",
              "    }\n",
              "\n",
              "    [theme=dark] .colab-df-convert:hover {\n",
              "      background-color: #434B5C;\n",
              "      box-shadow: 0px 1px 3px 1px rgba(0, 0, 0, 0.15);\n",
              "      filter: drop-shadow(0px 1px 2px rgba(0, 0, 0, 0.3));\n",
              "      fill: #FFFFFF;\n",
              "    }\n",
              "  </style>\n",
              "\n",
              "      <script>\n",
              "        const buttonEl =\n",
              "          document.querySelector('#df-5536dbed-dec9-4940-a365-9c3562534e8d button.colab-df-convert');\n",
              "        buttonEl.style.display =\n",
              "          google.colab.kernel.accessAllowed ? 'block' : 'none';\n",
              "\n",
              "        async function convertToInteractive(key) {\n",
              "          const element = document.querySelector('#df-5536dbed-dec9-4940-a365-9c3562534e8d');\n",
              "          const dataTable =\n",
              "            await google.colab.kernel.invokeFunction('convertToInteractive',\n",
              "                                                     [key], {});\n",
              "          if (!dataTable) return;\n",
              "\n",
              "          const docLinkHtml = 'Like what you see? Visit the ' +\n",
              "            '<a target=\"_blank\" href=https://colab.research.google.com/notebooks/data_table.ipynb>data table notebook</a>'\n",
              "            + ' to learn more about interactive tables.';\n",
              "          element.innerHTML = '';\n",
              "          dataTable['output_type'] = 'display_data';\n",
              "          await google.colab.output.renderOutput(dataTable, element);\n",
              "          const docLink = document.createElement('div');\n",
              "          docLink.innerHTML = docLinkHtml;\n",
              "          element.appendChild(docLink);\n",
              "        }\n",
              "      </script>\n",
              "    </div>\n",
              "  </div>\n",
              "  "
            ]
          },
          "metadata": {},
          "execution_count": 63
        }
      ],
      "source": [
        "data.describe()"
      ]
    },
    {
      "cell_type": "code",
      "execution_count": null,
      "metadata": {
        "colab": {
          "base_uri": "https://localhost:8080/",
          "height": 364
        },
        "id": "bXsEo7NG-1u4",
        "outputId": "44694025-8d32-4c48-85c0-8b26d6ca878f"
      },
      "outputs": [
        {
          "output_type": "execute_result",
          "data": {
            "text/plain": [
              "                                                 ID       age  \\\n",
              "ID                                         1.000000 -0.001237   \n",
              "age                                       -0.001237  1.000000   \n",
              "current_balance                           -0.004142  0.101688   \n",
              "conn_tr                                    0.008362 -0.005501   \n",
              "last_contact_this_campaign_day             0.000980 -0.007633   \n",
              "this_campaign                             -0.005354  0.001733   \n",
              "days_since_last_contact_previous_campaign -0.002558 -0.017208   \n",
              "contacted_during_previous_campaign        -0.000492  0.005704   \n",
              "\n",
              "                                           current_balance   conn_tr  \\\n",
              "ID                                               -0.004142  0.008362   \n",
              "age                                               0.101688 -0.005501   \n",
              "current_balance                                   1.000000 -0.001223   \n",
              "conn_tr                                          -0.001223  1.000000   \n",
              "last_contact_this_campaign_day                    0.007047  0.004237   \n",
              "this_campaign                                    -0.014508  0.003277   \n",
              "days_since_last_contact_previous_campaign         0.007244 -0.005558   \n",
              "contacted_during_previous_campaign                0.019504 -0.000411   \n",
              "\n",
              "                                           last_contact_this_campaign_day  \\\n",
              "ID                                                               0.000980   \n",
              "age                                                             -0.007633   \n",
              "current_balance                                                  0.007047   \n",
              "conn_tr                                                          0.004237   \n",
              "last_contact_this_campaign_day                                   1.000000   \n",
              "this_campaign                                                    0.156636   \n",
              "days_since_last_contact_previous_campaign                       -0.089422   \n",
              "contacted_during_previous_campaign                              -0.053263   \n",
              "\n",
              "                                           this_campaign  \\\n",
              "ID                                             -0.005354   \n",
              "age                                             0.001733   \n",
              "current_balance                                -0.014508   \n",
              "conn_tr                                         0.003277   \n",
              "last_contact_this_campaign_day                  0.156636   \n",
              "this_campaign                                   1.000000   \n",
              "days_since_last_contact_previous_campaign      -0.093053   \n",
              "contacted_during_previous_campaign             -0.037818   \n",
              "\n",
              "                                           days_since_last_contact_previous_campaign  \\\n",
              "ID                                                                         -0.002558   \n",
              "age                                                                        -0.017208   \n",
              "current_balance                                                             0.007244   \n",
              "conn_tr                                                                    -0.005558   \n",
              "last_contact_this_campaign_day                                             -0.089422   \n",
              "this_campaign                                                              -0.093053   \n",
              "days_since_last_contact_previous_campaign                                   1.000000   \n",
              "contacted_during_previous_campaign                                          0.460869   \n",
              "\n",
              "                                           contacted_during_previous_campaign  \n",
              "ID                                                                  -0.000492  \n",
              "age                                                                  0.005704  \n",
              "current_balance                                                      0.019504  \n",
              "conn_tr                                                             -0.000411  \n",
              "last_contact_this_campaign_day                                      -0.053263  \n",
              "this_campaign                                                       -0.037818  \n",
              "days_since_last_contact_previous_campaign                            0.460869  \n",
              "contacted_during_previous_campaign                                   1.000000  "
            ],
            "text/html": [
              "\n",
              "  <div id=\"df-de805ea3-2cbf-4d0b-b0ff-42ec8d206992\">\n",
              "    <div class=\"colab-df-container\">\n",
              "      <div>\n",
              "<style scoped>\n",
              "    .dataframe tbody tr th:only-of-type {\n",
              "        vertical-align: middle;\n",
              "    }\n",
              "\n",
              "    .dataframe tbody tr th {\n",
              "        vertical-align: top;\n",
              "    }\n",
              "\n",
              "    .dataframe thead th {\n",
              "        text-align: right;\n",
              "    }\n",
              "</style>\n",
              "<table border=\"1\" class=\"dataframe\">\n",
              "  <thead>\n",
              "    <tr style=\"text-align: right;\">\n",
              "      <th></th>\n",
              "      <th>ID</th>\n",
              "      <th>age</th>\n",
              "      <th>current_balance</th>\n",
              "      <th>conn_tr</th>\n",
              "      <th>last_contact_this_campaign_day</th>\n",
              "      <th>this_campaign</th>\n",
              "      <th>days_since_last_contact_previous_campaign</th>\n",
              "      <th>contacted_during_previous_campaign</th>\n",
              "    </tr>\n",
              "  </thead>\n",
              "  <tbody>\n",
              "    <tr>\n",
              "      <th>ID</th>\n",
              "      <td>1.000000</td>\n",
              "      <td>-0.001237</td>\n",
              "      <td>-0.004142</td>\n",
              "      <td>0.008362</td>\n",
              "      <td>0.000980</td>\n",
              "      <td>-0.005354</td>\n",
              "      <td>-0.002558</td>\n",
              "      <td>-0.000492</td>\n",
              "    </tr>\n",
              "    <tr>\n",
              "      <th>age</th>\n",
              "      <td>-0.001237</td>\n",
              "      <td>1.000000</td>\n",
              "      <td>0.101688</td>\n",
              "      <td>-0.005501</td>\n",
              "      <td>-0.007633</td>\n",
              "      <td>0.001733</td>\n",
              "      <td>-0.017208</td>\n",
              "      <td>0.005704</td>\n",
              "    </tr>\n",
              "    <tr>\n",
              "      <th>current_balance</th>\n",
              "      <td>-0.004142</td>\n",
              "      <td>0.101688</td>\n",
              "      <td>1.000000</td>\n",
              "      <td>-0.001223</td>\n",
              "      <td>0.007047</td>\n",
              "      <td>-0.014508</td>\n",
              "      <td>0.007244</td>\n",
              "      <td>0.019504</td>\n",
              "    </tr>\n",
              "    <tr>\n",
              "      <th>conn_tr</th>\n",
              "      <td>0.008362</td>\n",
              "      <td>-0.005501</td>\n",
              "      <td>-0.001223</td>\n",
              "      <td>1.000000</td>\n",
              "      <td>0.004237</td>\n",
              "      <td>0.003277</td>\n",
              "      <td>-0.005558</td>\n",
              "      <td>-0.000411</td>\n",
              "    </tr>\n",
              "    <tr>\n",
              "      <th>last_contact_this_campaign_day</th>\n",
              "      <td>0.000980</td>\n",
              "      <td>-0.007633</td>\n",
              "      <td>0.007047</td>\n",
              "      <td>0.004237</td>\n",
              "      <td>1.000000</td>\n",
              "      <td>0.156636</td>\n",
              "      <td>-0.089422</td>\n",
              "      <td>-0.053263</td>\n",
              "    </tr>\n",
              "    <tr>\n",
              "      <th>this_campaign</th>\n",
              "      <td>-0.005354</td>\n",
              "      <td>0.001733</td>\n",
              "      <td>-0.014508</td>\n",
              "      <td>0.003277</td>\n",
              "      <td>0.156636</td>\n",
              "      <td>1.000000</td>\n",
              "      <td>-0.093053</td>\n",
              "      <td>-0.037818</td>\n",
              "    </tr>\n",
              "    <tr>\n",
              "      <th>days_since_last_contact_previous_campaign</th>\n",
              "      <td>-0.002558</td>\n",
              "      <td>-0.017208</td>\n",
              "      <td>0.007244</td>\n",
              "      <td>-0.005558</td>\n",
              "      <td>-0.089422</td>\n",
              "      <td>-0.093053</td>\n",
              "      <td>1.000000</td>\n",
              "      <td>0.460869</td>\n",
              "    </tr>\n",
              "    <tr>\n",
              "      <th>contacted_during_previous_campaign</th>\n",
              "      <td>-0.000492</td>\n",
              "      <td>0.005704</td>\n",
              "      <td>0.019504</td>\n",
              "      <td>-0.000411</td>\n",
              "      <td>-0.053263</td>\n",
              "      <td>-0.037818</td>\n",
              "      <td>0.460869</td>\n",
              "      <td>1.000000</td>\n",
              "    </tr>\n",
              "  </tbody>\n",
              "</table>\n",
              "</div>\n",
              "      <button class=\"colab-df-convert\" onclick=\"convertToInteractive('df-de805ea3-2cbf-4d0b-b0ff-42ec8d206992')\"\n",
              "              title=\"Convert this dataframe to an interactive table.\"\n",
              "              style=\"display:none;\">\n",
              "        \n",
              "  <svg xmlns=\"http://www.w3.org/2000/svg\" height=\"24px\"viewBox=\"0 0 24 24\"\n",
              "       width=\"24px\">\n",
              "    <path d=\"M0 0h24v24H0V0z\" fill=\"none\"/>\n",
              "    <path d=\"M18.56 5.44l.94 2.06.94-2.06 2.06-.94-2.06-.94-.94-2.06-.94 2.06-2.06.94zm-11 1L8.5 8.5l.94-2.06 2.06-.94-2.06-.94L8.5 2.5l-.94 2.06-2.06.94zm10 10l.94 2.06.94-2.06 2.06-.94-2.06-.94-.94-2.06-.94 2.06-2.06.94z\"/><path d=\"M17.41 7.96l-1.37-1.37c-.4-.4-.92-.59-1.43-.59-.52 0-1.04.2-1.43.59L10.3 9.45l-7.72 7.72c-.78.78-.78 2.05 0 2.83L4 21.41c.39.39.9.59 1.41.59.51 0 1.02-.2 1.41-.59l7.78-7.78 2.81-2.81c.8-.78.8-2.07 0-2.86zM5.41 20L4 18.59l7.72-7.72 1.47 1.35L5.41 20z\"/>\n",
              "  </svg>\n",
              "      </button>\n",
              "      \n",
              "  <style>\n",
              "    .colab-df-container {\n",
              "      display:flex;\n",
              "      flex-wrap:wrap;\n",
              "      gap: 12px;\n",
              "    }\n",
              "\n",
              "    .colab-df-convert {\n",
              "      background-color: #E8F0FE;\n",
              "      border: none;\n",
              "      border-radius: 50%;\n",
              "      cursor: pointer;\n",
              "      display: none;\n",
              "      fill: #1967D2;\n",
              "      height: 32px;\n",
              "      padding: 0 0 0 0;\n",
              "      width: 32px;\n",
              "    }\n",
              "\n",
              "    .colab-df-convert:hover {\n",
              "      background-color: #E2EBFA;\n",
              "      box-shadow: 0px 1px 2px rgba(60, 64, 67, 0.3), 0px 1px 3px 1px rgba(60, 64, 67, 0.15);\n",
              "      fill: #174EA6;\n",
              "    }\n",
              "\n",
              "    [theme=dark] .colab-df-convert {\n",
              "      background-color: #3B4455;\n",
              "      fill: #D2E3FC;\n",
              "    }\n",
              "\n",
              "    [theme=dark] .colab-df-convert:hover {\n",
              "      background-color: #434B5C;\n",
              "      box-shadow: 0px 1px 3px 1px rgba(0, 0, 0, 0.15);\n",
              "      filter: drop-shadow(0px 1px 2px rgba(0, 0, 0, 0.3));\n",
              "      fill: #FFFFFF;\n",
              "    }\n",
              "  </style>\n",
              "\n",
              "      <script>\n",
              "        const buttonEl =\n",
              "          document.querySelector('#df-de805ea3-2cbf-4d0b-b0ff-42ec8d206992 button.colab-df-convert');\n",
              "        buttonEl.style.display =\n",
              "          google.colab.kernel.accessAllowed ? 'block' : 'none';\n",
              "\n",
              "        async function convertToInteractive(key) {\n",
              "          const element = document.querySelector('#df-de805ea3-2cbf-4d0b-b0ff-42ec8d206992');\n",
              "          const dataTable =\n",
              "            await google.colab.kernel.invokeFunction('convertToInteractive',\n",
              "                                                     [key], {});\n",
              "          if (!dataTable) return;\n",
              "\n",
              "          const docLinkHtml = 'Like what you see? Visit the ' +\n",
              "            '<a target=\"_blank\" href=https://colab.research.google.com/notebooks/data_table.ipynb>data table notebook</a>'\n",
              "            + ' to learn more about interactive tables.';\n",
              "          element.innerHTML = '';\n",
              "          dataTable['output_type'] = 'display_data';\n",
              "          await google.colab.output.renderOutput(dataTable, element);\n",
              "          const docLink = document.createElement('div');\n",
              "          docLink.innerHTML = docLinkHtml;\n",
              "          element.appendChild(docLink);\n",
              "        }\n",
              "      </script>\n",
              "    </div>\n",
              "  </div>\n",
              "  "
            ]
          },
          "metadata": {},
          "execution_count": 64
        }
      ],
      "source": [
        "data.corr()"
      ]
    },
    {
      "cell_type": "markdown",
      "metadata": {
        "id": "tf1t8-c9SrZr"
      },
      "source": [
        "# Univariate Analysis\n"
      ]
    },
    {
      "cell_type": "code",
      "execution_count": null,
      "metadata": {
        "colab": {
          "base_uri": "https://localhost:8080/",
          "height": 265
        },
        "id": "Sg8DkWcT-1e_",
        "outputId": "b9e8a499-668a-4e77-a480-63a7525072ae"
      },
      "outputs": [
        {
          "output_type": "display_data",
          "data": {
            "text/plain": [
              "<Figure size 432x288 with 1 Axes>"
            ],
            "image/png": "[encoded data removed]"
          },
          "metadata": {
            "needs_background": "light"
          }
        }
      ],
      "source": [
        "#Age Distribution\n",
        "\n",
        "data['age'].hist();"
      ]
    },
    {
      "cell_type": "markdown",
      "metadata": {
        "id": "vkQY7xzSTAYQ"
      },
      "source": [
        "## Analysis of Categorical and Target Variable"
      ]
    },
    {
      "cell_type": "markdown",
      "metadata": {
        "id": "yyoxCWGITLYI"
      },
      "source": [
        "### Age and Target Variable"
      ]
    },
    {
      "cell_type": "code",
      "execution_count": null,
      "metadata": {
        "colab": {
          "base_uri": "https://localhost:8080/"
        },
        "id": "G_SJ2CCSMuJt",
        "outputId": "2485af49-2f81-443e-9a20-851fabbe7355"
      },
      "outputs": [
        {
          "output_type": "execute_result",
          "data": {
            "text/plain": [
              "array([39, 53, 79, 43, 35, 24, 49, 54, 29, 56, 47, 33, 41, 44, 32, 42, 66,\n",
              "       37, 34, 55, 50, 48, 36, 40, 38, 27, 58, 18, 30, 59, 28, 31, 26, 51,\n",
              "       46, 57, 75, 65, 73, 78, 25, 69, 45, 76, 60, 22, 52, 62, 72, 61, 63,\n",
              "       23, 70, 68, 20, 67, 71, 83, 64, 77, 81, 80, 21, 19, 85, 86, 84, 74,\n",
              "       87, 90, 88, 89, 82, 93, 92, 95])"
            ]
          },
          "metadata": {},
          "execution_count": 66
        }
      ],
      "source": [
        "data['age'].unique()"
      ]
    },
    {
      "cell_type": "code",
      "execution_count": null,
      "metadata": {
        "colab": {
          "base_uri": "https://localhost:8080/"
        },
        "id": "p0QyU9yROhSF",
        "outputId": "3d2473df-e1a0-457d-ef5f-5a77e5b9c9ae"
      },
      "outputs": [
        {
          "output_type": "stream",
          "name": "stdout",
          "text": [
            "95\n",
            "18\n"
          ]
        }
      ],
      "source": [
        "print(data['age'].max())\n",
        "print(data['age'].min())"
      ]
    },
    {
      "cell_type": "code",
      "execution_count": null,
      "metadata": {
        "id": "ZBQeEzDOO8zU"
      },
      "outputs": [],
      "source": [
        "lst = [data]\n",
        "for column in lst:\n",
        "    column.loc[column[\"age\"] < 30,  'age_group'] = 20\n",
        "    column.loc[(column[\"age\"] >= 30) & (column[\"age\"] <= 39), 'age_group'] = 30\n",
        "    column.loc[(column[\"age\"] >= 40) & (column[\"age\"] <= 49), 'age_group'] = 40\n",
        "    column.loc[(column[\"age\"] >= 50) & (column[\"age\"] <= 59), 'age_group'] = 50\n",
        "    column.loc[column[\"age\"] >= 60, 'age_group'] = 60"
      ]
    },
    {
      "cell_type": "code",
      "execution_count": null,
      "metadata": {
        "colab": {
          "base_uri": "https://localhost:8080/"
        },
        "id": "ZD9eSRrYPbSM",
        "outputId": "c09ba5e3-1190-43a6-a88c-8526ab42dd0a"
      },
      "outputs": [
        {
          "output_type": "execute_result",
          "data": {
            "text/plain": [
              "new_contract_this_campaign         no        yes\n",
              "age_group                                       \n",
              "20.0                        71.983871  28.016129\n",
              "30.0                        82.151723  17.848277\n",
              "40.0                        84.554564  15.445436\n",
              "50.0                        83.961342  16.038658\n",
              "60.0                        52.203680  47.796320"
            ],
            "text/html": [
              "\n",
              "  <div id=\"df-eccb2aea-1769-4e31-b302-1a99c595d8ec\">\n",
              "    <div class=\"colab-df-container\">\n",
              "      <div>\n",
              "<style scoped>\n",
              "    .dataframe tbody tr th:only-of-type {\n",
              "        vertical-align: middle;\n",
              "    }\n",
              "\n",
              "    .dataframe tbody tr th {\n",
              "        vertical-align: top;\n",
              "    }\n",
              "\n",
              "    .dataframe thead th {\n",
              "        text-align: right;\n",
              "    }\n",
              "</style>\n",
              "<table border=\"1\" class=\"dataframe\">\n",
              "  <thead>\n",
              "    <tr style=\"text-align: right;\">\n",
              "      <th>new_contract_this_campaign</th>\n",
              "      <th>no</th>\n",
              "      <th>yes</th>\n",
              "    </tr>\n",
              "    <tr>\n",
              "      <th>age_group</th>\n",
              "      <th></th>\n",
              "      <th></th>\n",
              "    </tr>\n",
              "  </thead>\n",
              "  <tbody>\n",
              "    <tr>\n",
              "      <th>20.0</th>\n",
              "      <td>71.983871</td>\n",
              "      <td>28.016129</td>\n",
              "    </tr>\n",
              "    <tr>\n",
              "      <th>30.0</th>\n",
              "      <td>82.151723</td>\n",
              "      <td>17.848277</td>\n",
              "    </tr>\n",
              "    <tr>\n",
              "      <th>40.0</th>\n",
              "      <td>84.554564</td>\n",
              "      <td>15.445436</td>\n",
              "    </tr>\n",
              "    <tr>\n",
              "      <th>50.0</th>\n",
              "      <td>83.961342</td>\n",
              "      <td>16.038658</td>\n",
              "    </tr>\n",
              "    <tr>\n",
              "      <th>60.0</th>\n",
              "      <td>52.203680</td>\n",
              "      <td>47.796320</td>\n",
              "    </tr>\n",
              "  </tbody>\n",
              "</table>\n",
              "</div>\n",
              "      <button class=\"colab-df-convert\" onclick=\"convertToInteractive('df-eccb2aea-1769-4e31-b302-1a99c595d8ec')\"\n",
              "              title=\"Convert this dataframe to an interactive table.\"\n",
              "              style=\"display:none;\">\n",
              "        \n",
              "  <svg xmlns=\"http://www.w3.org/2000/svg\" height=\"24px\"viewBox=\"0 0 24 24\"\n",
              "       width=\"24px\">\n",
              "    <path d=\"M0 0h24v24H0V0z\" fill=\"none\"/>\n",
              "    <path d=\"M18.56 5.44l.94 2.06.94-2.06 2.06-.94-2.06-.94-.94-2.06-.94 2.06-2.06.94zm-11 1L8.5 8.5l.94-2.06 2.06-.94-2.06-.94L8.5 2.5l-.94 2.06-2.06.94zm10 10l.94 2.06.94-2.06 2.06-.94-2.06-.94-.94-2.06-.94 2.06-2.06.94z\"/><path d=\"M17.41 7.96l-1.37-1.37c-.4-.4-.92-.59-1.43-.59-.52 0-1.04.2-1.43.59L10.3 9.45l-7.72 7.72c-.78.78-.78 2.05 0 2.83L4 21.41c.39.39.9.59 1.41.59.51 0 1.02-.2 1.41-.59l7.78-7.78 2.81-2.81c.8-.78.8-2.07 0-2.86zM5.41 20L4 18.59l7.72-7.72 1.47 1.35L5.41 20z\"/>\n",
              "  </svg>\n",
              "      </button>\n",
              "      \n",
              "  <style>\n",
              "    .colab-df-container {\n",
              "      display:flex;\n",
              "      flex-wrap:wrap;\n",
              "      gap: 12px;\n",
              "    }\n",
              "\n",
              "    .colab-df-convert {\n",
              "      background-color: #E8F0FE;\n",
              "      border: none;\n",
              "      border-radius: 50%;\n",
              "      cursor: pointer;\n",
              "      display: none;\n",
              "      fill: #1967D2;\n",
              "      height: 32px;\n",
              "      padding: 0 0 0 0;\n",
              "      width: 32px;\n",
              "    }\n",
              "\n",
              "    .colab-df-convert:hover {\n",
              "      background-color: #E2EBFA;\n",
              "      box-shadow: 0px 1px 2px rgba(60, 64, 67, 0.3), 0px 1px 3px 1px rgba(60, 64, 67, 0.15);\n",
              "      fill: #174EA6;\n",
              "    }\n",
              "\n",
              "    [theme=dark] .colab-df-convert {\n",
              "      background-color: #3B4455;\n",
              "      fill: #D2E3FC;\n",
              "    }\n",
              "\n",
              "    [theme=dark] .colab-df-convert:hover {\n",
              "      background-color: #434B5C;\n",
              "      box-shadow: 0px 1px 3px 1px rgba(0, 0, 0, 0.15);\n",
              "      filter: drop-shadow(0px 1px 2px rgba(0, 0, 0, 0.3));\n",
              "      fill: #FFFFFF;\n",
              "    }\n",
              "  </style>\n",
              "\n",
              "      <script>\n",
              "        const buttonEl =\n",
              "          document.querySelector('#df-eccb2aea-1769-4e31-b302-1a99c595d8ec button.colab-df-convert');\n",
              "        buttonEl.style.display =\n",
              "          google.colab.kernel.accessAllowed ? 'block' : 'none';\n",
              "\n",
              "        async function convertToInteractive(key) {\n",
              "          const element = document.querySelector('#df-eccb2aea-1769-4e31-b302-1a99c595d8ec');\n",
              "          const dataTable =\n",
              "            await google.colab.kernel.invokeFunction('convertToInteractive',\n",
              "                                                     [key], {});\n",
              "          if (!dataTable) return;\n",
              "\n",
              "          const docLinkHtml = 'Like what you see? Visit the ' +\n",
              "            '<a target=\"_blank\" href=https://colab.research.google.com/notebooks/data_table.ipynb>data table notebook</a>'\n",
              "            + ' to learn more about interactive tables.';\n",
              "          element.innerHTML = '';\n",
              "          dataTable['output_type'] = 'display_data';\n",
              "          await google.colab.output.renderOutput(dataTable, element);\n",
              "          const docLink = document.createElement('div');\n",
              "          docLink.innerHTML = docLinkHtml;\n",
              "          element.appendChild(docLink);\n",
              "        }\n",
              "      </script>\n",
              "    </div>\n",
              "  </div>\n",
              "  "
            ]
          },
          "metadata": {},
          "execution_count": 69
        }
      ],
      "source": [
        "count_age_response_pct = pd.crosstab(data['new_contract_this_campaign'],data['age_group']).apply(lambda x: x/x.sum() * 100)\n",
        "count_age_response_pct = count_age_response_pct.transpose() \n",
        "count_age_response_pct"
      ]
    },
    {
      "cell_type": "code",
      "execution_count": null,
      "metadata": {
        "colab": {
          "base_uri": "https://localhost:8080/"
        },
        "id": "dB9ykdMKQi7K",
        "outputId": "c67c9fb7-cf59-4f62-8814-9f65d6abf442"
      },
      "outputs": [
        {
          "output_type": "execute_result",
          "data": {
            "text/plain": [
              "      % new_contract  age\n",
              "20.0       28.016129   20\n",
              "30.0       17.848277   30\n",
              "40.0       15.445436   40\n",
              "50.0       16.038658   50\n",
              "60.0       47.796320   60"
            ],
            "text/html": [
              "\n",
              "  <div id=\"df-d1e98e53-3ca8-4874-ba08-e3aaf39079aa\">\n",
              "    <div class=\"colab-df-container\">\n",
              "      <div>\n",
              "<style scoped>\n",
              "    .dataframe tbody tr th:only-of-type {\n",
              "        vertical-align: middle;\n",
              "    }\n",
              "\n",
              "    .dataframe tbody tr th {\n",
              "        vertical-align: top;\n",
              "    }\n",
              "\n",
              "    .dataframe thead th {\n",
              "        text-align: right;\n",
              "    }\n",
              "</style>\n",
              "<table border=\"1\" class=\"dataframe\">\n",
              "  <thead>\n",
              "    <tr style=\"text-align: right;\">\n",
              "      <th></th>\n",
              "      <th>% new_contract</th>\n",
              "      <th>age</th>\n",
              "    </tr>\n",
              "  </thead>\n",
              "  <tbody>\n",
              "    <tr>\n",
              "      <th>20.0</th>\n",
              "      <td>28.016129</td>\n",
              "      <td>20</td>\n",
              "    </tr>\n",
              "    <tr>\n",
              "      <th>30.0</th>\n",
              "      <td>17.848277</td>\n",
              "      <td>30</td>\n",
              "    </tr>\n",
              "    <tr>\n",
              "      <th>40.0</th>\n",
              "      <td>15.445436</td>\n",
              "      <td>40</td>\n",
              "    </tr>\n",
              "    <tr>\n",
              "      <th>50.0</th>\n",
              "      <td>16.038658</td>\n",
              "      <td>50</td>\n",
              "    </tr>\n",
              "    <tr>\n",
              "      <th>60.0</th>\n",
              "      <td>47.796320</td>\n",
              "      <td>60</td>\n",
              "    </tr>\n",
              "  </tbody>\n",
              "</table>\n",
              "</div>\n",
              "      <button class=\"colab-df-convert\" onclick=\"convertToInteractive('df-d1e98e53-3ca8-4874-ba08-e3aaf39079aa')\"\n",
              "              title=\"Convert this dataframe to an interactive table.\"\n",
              "              style=\"display:none;\">\n",
              "        \n",
              "  <svg xmlns=\"http://www.w3.org/2000/svg\" height=\"24px\"viewBox=\"0 0 24 24\"\n",
              "       width=\"24px\">\n",
              "    <path d=\"M0 0h24v24H0V0z\" fill=\"none\"/>\n",
              "    <path d=\"M18.56 5.44l.94 2.06.94-2.06 2.06-.94-2.06-.94-.94-2.06-.94 2.06-2.06.94zm-11 1L8.5 8.5l.94-2.06 2.06-.94-2.06-.94L8.5 2.5l-.94 2.06-2.06.94zm10 10l.94 2.06.94-2.06 2.06-.94-2.06-.94-.94-2.06-.94 2.06-2.06.94z\"/><path d=\"M17.41 7.96l-1.37-1.37c-.4-.4-.92-.59-1.43-.59-.52 0-1.04.2-1.43.59L10.3 9.45l-7.72 7.72c-.78.78-.78 2.05 0 2.83L4 21.41c.39.39.9.59 1.41.59.51 0 1.02-.2 1.41-.59l7.78-7.78 2.81-2.81c.8-.78.8-2.07 0-2.86zM5.41 20L4 18.59l7.72-7.72 1.47 1.35L5.41 20z\"/>\n",
              "  </svg>\n",
              "      </button>\n",
              "      \n",
              "  <style>\n",
              "    .colab-df-container {\n",
              "      display:flex;\n",
              "      flex-wrap:wrap;\n",
              "      gap: 12px;\n",
              "    }\n",
              "\n",
              "    .colab-df-convert {\n",
              "      background-color: #E8F0FE;\n",
              "      border: none;\n",
              "      border-radius: 50%;\n",
              "      cursor: pointer;\n",
              "      display: none;\n",
              "      fill: #1967D2;\n",
              "      height: 32px;\n",
              "      padding: 0 0 0 0;\n",
              "      width: 32px;\n",
              "    }\n",
              "\n",
              "    .colab-df-convert:hover {\n",
              "      background-color: #E2EBFA;\n",
              "      box-shadow: 0px 1px 2px rgba(60, 64, 67, 0.3), 0px 1px 3px 1px rgba(60, 64, 67, 0.15);\n",
              "      fill: #174EA6;\n",
              "    }\n",
              "\n",
              "    [theme=dark] .colab-df-convert {\n",
              "      background-color: #3B4455;\n",
              "      fill: #D2E3FC;\n",
              "    }\n",
              "\n",
              "    [theme=dark] .colab-df-convert:hover {\n",
              "      background-color: #434B5C;\n",
              "      box-shadow: 0px 1px 3px 1px rgba(0, 0, 0, 0.15);\n",
              "      filter: drop-shadow(0px 1px 2px rgba(0, 0, 0, 0.3));\n",
              "      fill: #FFFFFF;\n",
              "    }\n",
              "  </style>\n",
              "\n",
              "      <script>\n",
              "        const buttonEl =\n",
              "          document.querySelector('#df-d1e98e53-3ca8-4874-ba08-e3aaf39079aa button.colab-df-convert');\n",
              "        buttonEl.style.display =\n",
              "          google.colab.kernel.accessAllowed ? 'block' : 'none';\n",
              "\n",
              "        async function convertToInteractive(key) {\n",
              "          const element = document.querySelector('#df-d1e98e53-3ca8-4874-ba08-e3aaf39079aa');\n",
              "          const dataTable =\n",
              "            await google.colab.kernel.invokeFunction('convertToInteractive',\n",
              "                                                     [key], {});\n",
              "          if (!dataTable) return;\n",
              "\n",
              "          const docLinkHtml = 'Like what you see? Visit the ' +\n",
              "            '<a target=\"_blank\" href=https://colab.research.google.com/notebooks/data_table.ipynb>data table notebook</a>'\n",
              "            + ' to learn more about interactive tables.';\n",
              "          element.innerHTML = '';\n",
              "          dataTable['output_type'] = 'display_data';\n",
              "          await google.colab.output.renderOutput(dataTable, element);\n",
              "          const docLink = document.createElement('div');\n",
              "          docLink.innerHTML = docLinkHtml;\n",
              "          element.appendChild(docLink);\n",
              "        }\n",
              "      </script>\n",
              "    </div>\n",
              "  </div>\n",
              "  "
            ]
          },
          "metadata": {},
          "execution_count": 70
        }
      ],
      "source": [
        "age = pd.DataFrame(data['age_group'].value_counts())\n",
        "age['% new_contract'] = count_age_response_pct['yes']\n",
        "age.drop('age_group',axis = 1,inplace = True)\n",
        "\n",
        "age['age'] = [30,40,50,20,60]\n",
        "age = age.sort_values('age',ascending = True)\n",
        "\n",
        "age"
      ]
    },
    {
      "cell_type": "code",
      "execution_count": null,
      "metadata": {
        "colab": {
          "base_uri": "https://localhost:8080/"
        },
        "id": "9XDhV25wQpve",
        "outputId": "de7db57d-d8f6-44ba-c93e-345a1374a05c"
      },
      "outputs": [
        {
          "output_type": "display_data",
          "data": {
            "text/plain": [
              "<Figure size 576x432 with 1 Axes>"
            ],
            "image/png": "[encoded data removed]"
          },
          "metadata": {
            "needs_background": "light"
          }
        }
      ],
      "source": [
        "plot_age = age['% new_contract'].plot(kind = 'bar',\n",
        "                                              figsize=(8,6))\n",
        "plt.xlabel('Age Group')\n",
        "plt.ylabel('Target')\n",
        "plt.xticks(np.arange(5), ('<30', '30-39', '40-49', '50-59', '60+'),rotation = 'horizontal')\n",
        "plt.title('Age Group v Target')\n",
        "plt.show()"
      ]
    },
    {
      "cell_type": "code",
      "execution_count": null,
      "metadata": {
        "colab": {
          "base_uri": "https://localhost:8080/"
        },
        "id": "WXCE-rM_SUIi",
        "outputId": "f139e73e-dde4-4e7f-82c8-fc9c61af5ccc"
      },
      "outputs": [
        {
          "output_type": "execute_result",
          "data": {
            "text/plain": [
              "         ID           town country  age         job   married  education  \\\n",
              "0  32390233        Bristol      UK   39  management   married   tertiary   \n",
              "1  41226029       Basildon      UK   53   housemaid   married    primary   \n",
              "2  85498057      Blackburn      UK   79     retired  divorced    primary   \n",
              "3  76539627         Oldham      UK   43    services    single  secondary   \n",
              "4  76290986  Middlesbrough      UK   35  technician    single  secondary   \n",
              "\n",
              "  arrears  current_balance housing  ... last_contact conn_tr  \\\n",
              "0      no            -1.90      no  ...      unknown       4   \n",
              "1      no             3.62      no  ...     cellular       1   \n",
              "2      no            27.87      no  ...    telephone       3   \n",
              "3      no             5.50     yes  ...     cellular       3   \n",
              "4      no             3.44      no  ...     cellular       2   \n",
              "\n",
              "   last_contact_this_campaign_day  last_contact_this_campaign_month  \\\n",
              "0                              11                               jun   \n",
              "1                              28                               jul   \n",
              "2                              13                               jul   \n",
              "3                              13                               may   \n",
              "4                              27                               aug   \n",
              "\n",
              "  this_campaign  days_since_last_contact_previous_campaign  \\\n",
              "0             8                                         -1   \n",
              "1             2                                         -1   \n",
              "2             1                                        377   \n",
              "3             2                                         -1   \n",
              "4            16                                         -1   \n",
              "\n",
              "   contacted_during_previous_campaign  outcome_previous_campaign  \\\n",
              "0                                   0                    unknown   \n",
              "1                                   0                    unknown   \n",
              "2                                   1                    success   \n",
              "3                                   0                    unknown   \n",
              "4                                   0                    unknown   \n",
              "\n",
              "  new_contract_this_campaign age_group  \n",
              "0                        yes      30.0  \n",
              "1                        yes      50.0  \n",
              "2                        yes      60.0  \n",
              "3                         no      40.0  \n",
              "4                        yes      30.0  \n",
              "\n",
              "[5 rows x 21 columns]"
            ],
            "text/html": [
              "\n",
              "  <div id=\"df-80162fe6-b38c-4a23-83d7-3241b98b0f56\">\n",
              "    <div class=\"colab-df-container\">\n",
              "      <div>\n",
              "<style scoped>\n",
              "    .dataframe tbody tr th:only-of-type {\n",
              "        vertical-align: middle;\n",
              "    }\n",
              "\n",
              "    .dataframe tbody tr th {\n",
              "        vertical-align: top;\n",
              "    }\n",
              "\n",
              "    .dataframe thead th {\n",
              "        text-align: right;\n",
              "    }\n",
              "</style>\n",
              "<table border=\"1\" class=\"dataframe\">\n",
              "  <thead>\n",
              "    <tr style=\"text-align: right;\">\n",
              "      <th></th>\n",
              "      <th>ID</th>\n",
              "      <th>town</th>\n",
              "      <th>country</th>\n",
              "      <th>age</th>\n",
              "      <th>job</th>\n",
              "      <th>married</th>\n",
              "      <th>education</th>\n",
              "      <th>arrears</th>\n",
              "      <th>current_balance</th>\n",
              "      <th>housing</th>\n",
              "      <th>...</th>\n",
              "      <th>last_contact</th>\n",
              "      <th>conn_tr</th>\n",
              "      <th>last_contact_this_campaign_day</th>\n",
              "      <th>last_contact_this_campaign_month</th>\n",
              "      <th>this_campaign</th>\n",
              "      <th>days_since_last_contact_previous_campaign</th>\n",
              "      <th>contacted_during_previous_campaign</th>\n",
              "      <th>outcome_previous_campaign</th>\n",
              "      <th>new_contract_this_campaign</th>\n",
              "      <th>age_group</th>\n",
              "    </tr>\n",
              "  </thead>\n",
              "  <tbody>\n",
              "    <tr>\n",
              "      <th>0</th>\n",
              "      <td>32390233</td>\n",
              "      <td>Bristol</td>\n",
              "      <td>UK</td>\n",
              "      <td>39</td>\n",
              "      <td>management</td>\n",
              "      <td>married</td>\n",
              "      <td>tertiary</td>\n",
              "      <td>no</td>\n",
              "      <td>-1.90</td>\n",
              "      <td>no</td>\n",
              "      <td>...</td>\n",
              "      <td>unknown</td>\n",
              "      <td>4</td>\n",
              "      <td>11</td>\n",
              "      <td>jun</td>\n",
              "      <td>8</td>\n",
              "      <td>-1</td>\n",
              "      <td>0</td>\n",
              "      <td>unknown</td>\n",
              "      <td>yes</td>\n",
              "      <td>30.0</td>\n",
              "    </tr>\n",
              "    <tr>\n",
              "      <th>1</th>\n",
              "      <td>41226029</td>\n",
              "      <td>Basildon</td>\n",
              "      <td>UK</td>\n",
              "      <td>53</td>\n",
              "      <td>housemaid</td>\n",
              "      <td>married</td>\n",
              "      <td>primary</td>\n",
              "      <td>no</td>\n",
              "      <td>3.62</td>\n",
              "      <td>no</td>\n",
              "      <td>...</td>\n",
              "      <td>cellular</td>\n",
              "      <td>1</td>\n",
              "      <td>28</td>\n",
              "      <td>jul</td>\n",
              "      <td>2</td>\n",
              "      <td>-1</td>\n",
              "      <td>0</td>\n",
              "      <td>unknown</td>\n",
              "      <td>yes</td>\n",
              "      <td>50.0</td>\n",
              "    </tr>\n",
              "    <tr>\n",
              "      <th>2</th>\n",
              "      <td>85498057</td>\n",
              "      <td>Blackburn</td>\n",
              "      <td>UK</td>\n",
              "      <td>79</td>\n",
              "      <td>retired</td>\n",
              "      <td>divorced</td>\n",
              "      <td>primary</td>\n",
              "      <td>no</td>\n",
              "      <td>27.87</td>\n",
              "      <td>no</td>\n",
              "      <td>...</td>\n",
              "      <td>telephone</td>\n",
              "      <td>3</td>\n",
              "      <td>13</td>\n",
              "      <td>jul</td>\n",
              "      <td>1</td>\n",
              "      <td>377</td>\n",
              "      <td>1</td>\n",
              "      <td>success</td>\n",
              "      <td>yes</td>\n",
              "      <td>60.0</td>\n",
              "    </tr>\n",
              "    <tr>\n",
              "      <th>3</th>\n",
              "      <td>76539627</td>\n",
              "      <td>Oldham</td>\n",
              "      <td>UK</td>\n",
              "      <td>43</td>\n",
              "      <td>services</td>\n",
              "      <td>single</td>\n",
              "      <td>secondary</td>\n",
              "      <td>no</td>\n",
              "      <td>5.50</td>\n",
              "      <td>yes</td>\n",
              "      <td>...</td>\n",
              "      <td>cellular</td>\n",
              "      <td>3</td>\n",
              "      <td>13</td>\n",
              "      <td>may</td>\n",
              "      <td>2</td>\n",
              "      <td>-1</td>\n",
              "      <td>0</td>\n",
              "      <td>unknown</td>\n",
              "      <td>no</td>\n",
              "      <td>40.0</td>\n",
              "    </tr>\n",
              "    <tr>\n",
              "      <th>4</th>\n",
              "      <td>76290986</td>\n",
              "      <td>Middlesbrough</td>\n",
              "      <td>UK</td>\n",
              "      <td>35</td>\n",
              "      <td>technician</td>\n",
              "      <td>single</td>\n",
              "      <td>secondary</td>\n",
              "      <td>no</td>\n",
              "      <td>3.44</td>\n",
              "      <td>no</td>\n",
              "      <td>...</td>\n",
              "      <td>cellular</td>\n",
              "      <td>2</td>\n",
              "      <td>27</td>\n",
              "      <td>aug</td>\n",
              "      <td>16</td>\n",
              "      <td>-1</td>\n",
              "      <td>0</td>\n",
              "      <td>unknown</td>\n",
              "      <td>yes</td>\n",
              "      <td>30.0</td>\n",
              "    </tr>\n",
              "  </tbody>\n",
              "</table>\n",
              "<p>5 rows × 21 columns</p>\n",
              "</div>\n",
              "      <button class=\"colab-df-convert\" onclick=\"convertToInteractive('df-80162fe6-b38c-4a23-83d7-3241b98b0f56')\"\n",
              "              title=\"Convert this dataframe to an interactive table.\"\n",
              "              style=\"display:none;\">\n",
              "        \n",
              "  <svg xmlns=\"http://www.w3.org/2000/svg\" height=\"24px\"viewBox=\"0 0 24 24\"\n",
              "       width=\"24px\">\n",
              "    <path d=\"M0 0h24v24H0V0z\" fill=\"none\"/>\n",
              "    <path d=\"M18.56 5.44l.94 2.06.94-2.06 2.06-.94-2.06-.94-.94-2.06-.94 2.06-2.06.94zm-11 1L8.5 8.5l.94-2.06 2.06-.94-2.06-.94L8.5 2.5l-.94 2.06-2.06.94zm10 10l.94 2.06.94-2.06 2.06-.94-2.06-.94-.94-2.06-.94 2.06-2.06.94z\"/><path d=\"M17.41 7.96l-1.37-1.37c-.4-.4-.92-.59-1.43-.59-.52 0-1.04.2-1.43.59L10.3 9.45l-7.72 7.72c-.78.78-.78 2.05 0 2.83L4 21.41c.39.39.9.59 1.41.59.51 0 1.02-.2 1.41-.59l7.78-7.78 2.81-2.81c.8-.78.8-2.07 0-2.86zM5.41 20L4 18.59l7.72-7.72 1.47 1.35L5.41 20z\"/>\n",
              "  </svg>\n",
              "      </button>\n",
              "      \n",
              "  <style>\n",
              "    .colab-df-container {\n",
              "      display:flex;\n",
              "      flex-wrap:wrap;\n",
              "      gap: 12px;\n",
              "    }\n",
              "\n",
              "    .colab-df-convert {\n",
              "      background-color: #E8F0FE;\n",
              "      border: none;\n",
              "      border-radius: 50%;\n",
              "      cursor: pointer;\n",
              "      display: none;\n",
              "      fill: #1967D2;\n",
              "      height: 32px;\n",
              "      padding: 0 0 0 0;\n",
              "      width: 32px;\n",
              "    }\n",
              "\n",
              "    .colab-df-convert:hover {\n",
              "      background-color: #E2EBFA;\n",
              "      box-shadow: 0px 1px 2px rgba(60, 64, 67, 0.3), 0px 1px 3px 1px rgba(60, 64, 67, 0.15);\n",
              "      fill: #174EA6;\n",
              "    }\n",
              "\n",
              "    [theme=dark] .colab-df-convert {\n",
              "      background-color: #3B4455;\n",
              "      fill: #D2E3FC;\n",
              "    }\n",
              "\n",
              "    [theme=dark] .colab-df-convert:hover {\n",
              "      background-color: #434B5C;\n",
              "      box-shadow: 0px 1px 3px 1px rgba(0, 0, 0, 0.15);\n",
              "      filter: drop-shadow(0px 1px 2px rgba(0, 0, 0, 0.3));\n",
              "      fill: #FFFFFF;\n",
              "    }\n",
              "  </style>\n",
              "\n",
              "      <script>\n",
              "        const buttonEl =\n",
              "          document.querySelector('#df-80162fe6-b38c-4a23-83d7-3241b98b0f56 button.colab-df-convert');\n",
              "        buttonEl.style.display =\n",
              "          google.colab.kernel.accessAllowed ? 'block' : 'none';\n",
              "\n",
              "        async function convertToInteractive(key) {\n",
              "          const element = document.querySelector('#df-80162fe6-b38c-4a23-83d7-3241b98b0f56');\n",
              "          const dataTable =\n",
              "            await google.colab.kernel.invokeFunction('convertToInteractive',\n",
              "                                                     [key], {});\n",
              "          if (!dataTable) return;\n",
              "\n",
              "          const docLinkHtml = 'Like what you see? Visit the ' +\n",
              "            '<a target=\"_blank\" href=https://colab.research.google.com/notebooks/data_table.ipynb>data table notebook</a>'\n",
              "            + ' to learn more about interactive tables.';\n",
              "          element.innerHTML = '';\n",
              "          dataTable['output_type'] = 'display_data';\n",
              "          await google.colab.output.renderOutput(dataTable, element);\n",
              "          const docLink = document.createElement('div');\n",
              "          docLink.innerHTML = docLinkHtml;\n",
              "          element.appendChild(docLink);\n",
              "        }\n",
              "      </script>\n",
              "    </div>\n",
              "  </div>\n",
              "  "
            ]
          },
          "metadata": {},
          "execution_count": 72
        }
      ],
      "source": [
        "data.head()"
      ]
    },
    {
      "cell_type": "markdown",
      "metadata": {
        "id": "dAqMN_J-Tbb2"
      },
      "source": [
        "### Town and Target"
      ]
    },
    {
      "cell_type": "code",
      "execution_count": null,
      "metadata": {
        "colab": {
          "base_uri": "https://localhost:8080/"
        },
        "id": "uEhySzaWSUAw",
        "outputId": "3b3f73ed-2bc7-4602-dec7-0f87974bddc0"
      },
      "outputs": [
        {
          "output_type": "execute_result",
          "data": {
            "text/plain": [
              "101"
            ]
          },
          "metadata": {},
          "execution_count": 73
        }
      ],
      "source": [
        "data['town'].nunique()"
      ]
    },
    {
      "cell_type": "code",
      "execution_count": null,
      "metadata": {
        "colab": {
          "base_uri": "https://localhost:8080/"
        },
        "id": "uRVpF74xTrlL",
        "outputId": "e0aa8629-a365-49a2-d559-df984c99b8b2"
      },
      "outputs": [
        {
          "output_type": "execute_result",
          "data": {
            "text/plain": [
              "new_contract_this_campaign         no        yes\n",
              "town                                            \n",
              "Aberdeen                    81.462141  18.537859\n",
              "Barnsley                    80.750000  19.250000\n",
              "Basildon                    76.470588  23.529412\n",
              "Basingstoke                 80.555556  19.444444\n",
              "Bath                        82.051282  17.948718\n",
              "...                               ...        ...\n",
              "Woking                      82.878412  17.121588\n",
              "Wolverhampton               82.025316  17.974684\n",
              "Worcester                   79.361179  20.638821\n",
              "Worthing                    80.493827  19.506173\n",
              "York                        81.565657  18.434343\n",
              "\n",
              "[101 rows x 2 columns]"
            ],
            "text/html": [
              "\n",
              "  <div id=\"df-29e82f59-4359-4a73-9eb4-35900955f638\">\n",
              "    <div class=\"colab-df-container\">\n",
              "      <div>\n",
              "<style scoped>\n",
              "    .dataframe tbody tr th:only-of-type {\n",
              "        vertical-align: middle;\n",
              "    }\n",
              "\n",
              "    .dataframe tbody tr th {\n",
              "        vertical-align: top;\n",
              "    }\n",
              "\n",
              "    .dataframe thead th {\n",
              "        text-align: right;\n",
              "    }\n",
              "</style>\n",
              "<table border=\"1\" class=\"dataframe\">\n",
              "  <thead>\n",
              "    <tr style=\"text-align: right;\">\n",
              "      <th>new_contract_this_campaign</th>\n",
              "      <th>no</th>\n",
              "      <th>yes</th>\n",
              "    </tr>\n",
              "    <tr>\n",
              "      <th>town</th>\n",
              "      <th></th>\n",
              "      <th></th>\n",
              "    </tr>\n",
              "  </thead>\n",
              "  <tbody>\n",
              "    <tr>\n",
              "      <th>Aberdeen</th>\n",
              "      <td>81.462141</td>\n",
              "      <td>18.537859</td>\n",
              "    </tr>\n",
              "    <tr>\n",
              "      <th>Barnsley</th>\n",
              "      <td>80.750000</td>\n",
              "      <td>19.250000</td>\n",
              "    </tr>\n",
              "    <tr>\n",
              "      <th>Basildon</th>\n",
              "      <td>76.470588</td>\n",
              "      <td>23.529412</td>\n",
              "    </tr>\n",
              "    <tr>\n",
              "      <th>Basingstoke</th>\n",
              "      <td>80.555556</td>\n",
              "      <td>19.444444</td>\n",
              "    </tr>\n",
              "    <tr>\n",
              "      <th>Bath</th>\n",
              "      <td>82.051282</td>\n",
              "      <td>17.948718</td>\n",
              "    </tr>\n",
              "    <tr>\n",
              "      <th>...</th>\n",
              "      <td>...</td>\n",
              "      <td>...</td>\n",
              "    </tr>\n",
              "    <tr>\n",
              "      <th>Woking</th>\n",
              "      <td>82.878412</td>\n",
              "      <td>17.121588</td>\n",
              "    </tr>\n",
              "    <tr>\n",
              "      <th>Wolverhampton</th>\n",
              "      <td>82.025316</td>\n",
              "      <td>17.974684</td>\n",
              "    </tr>\n",
              "    <tr>\n",
              "      <th>Worcester</th>\n",
              "      <td>79.361179</td>\n",
              "      <td>20.638821</td>\n",
              "    </tr>\n",
              "    <tr>\n",
              "      <th>Worthing</th>\n",
              "      <td>80.493827</td>\n",
              "      <td>19.506173</td>\n",
              "    </tr>\n",
              "    <tr>\n",
              "      <th>York</th>\n",
              "      <td>81.565657</td>\n",
              "      <td>18.434343</td>\n",
              "    </tr>\n",
              "  </tbody>\n",
              "</table>\n",
              "<p>101 rows × 2 columns</p>\n",
              "</div>\n",
              "      <button class=\"colab-df-convert\" onclick=\"convertToInteractive('df-29e82f59-4359-4a73-9eb4-35900955f638')\"\n",
              "              title=\"Convert this dataframe to an interactive table.\"\n",
              "              style=\"display:none;\">\n",
              "        \n",
              "  <svg xmlns=\"http://www.w3.org/2000/svg\" height=\"24px\"viewBox=\"0 0 24 24\"\n",
              "       width=\"24px\">\n",
              "    <path d=\"M0 0h24v24H0V0z\" fill=\"none\"/>\n",
              "    <path d=\"M18.56 5.44l.94 2.06.94-2.06 2.06-.94-2.06-.94-.94-2.06-.94 2.06-2.06.94zm-11 1L8.5 8.5l.94-2.06 2.06-.94-2.06-.94L8.5 2.5l-.94 2.06-2.06.94zm10 10l.94 2.06.94-2.06 2.06-.94-2.06-.94-.94-2.06-.94 2.06-2.06.94z\"/><path d=\"M17.41 7.96l-1.37-1.37c-.4-.4-.92-.59-1.43-.59-.52 0-1.04.2-1.43.59L10.3 9.45l-7.72 7.72c-.78.78-.78 2.05 0 2.83L4 21.41c.39.39.9.59 1.41.59.51 0 1.02-.2 1.41-.59l7.78-7.78 2.81-2.81c.8-.78.8-2.07 0-2.86zM5.41 20L4 18.59l7.72-7.72 1.47 1.35L5.41 20z\"/>\n",
              "  </svg>\n",
              "      </button>\n",
              "      \n",
              "  <style>\n",
              "    .colab-df-container {\n",
              "      display:flex;\n",
              "      flex-wrap:wrap;\n",
              "      gap: 12px;\n",
              "    }\n",
              "\n",
              "    .colab-df-convert {\n",
              "      background-color: #E8F0FE;\n",
              "      border: none;\n",
              "      border-radius: 50%;\n",
              "      cursor: pointer;\n",
              "      display: none;\n",
              "      fill: #1967D2;\n",
              "      height: 32px;\n",
              "      padding: 0 0 0 0;\n",
              "      width: 32px;\n",
              "    }\n",
              "\n",
              "    .colab-df-convert:hover {\n",
              "      background-color: #E2EBFA;\n",
              "      box-shadow: 0px 1px 2px rgba(60, 64, 67, 0.3), 0px 1px 3px 1px rgba(60, 64, 67, 0.15);\n",
              "      fill: #174EA6;\n",
              "    }\n",
              "\n",
              "    [theme=dark] .colab-df-convert {\n",
              "      background-color: #3B4455;\n",
              "      fill: #D2E3FC;\n",
              "    }\n",
              "\n",
              "    [theme=dark] .colab-df-convert:hover {\n",
              "      background-color: #434B5C;\n",
              "      box-shadow: 0px 1px 3px 1px rgba(0, 0, 0, 0.15);\n",
              "      filter: drop-shadow(0px 1px 2px rgba(0, 0, 0, 0.3));\n",
              "      fill: #FFFFFF;\n",
              "    }\n",
              "  </style>\n",
              "\n",
              "      <script>\n",
              "        const buttonEl =\n",
              "          document.querySelector('#df-29e82f59-4359-4a73-9eb4-35900955f638 button.colab-df-convert');\n",
              "        buttonEl.style.display =\n",
              "          google.colab.kernel.accessAllowed ? 'block' : 'none';\n",
              "\n",
              "        async function convertToInteractive(key) {\n",
              "          const element = document.querySelector('#df-29e82f59-4359-4a73-9eb4-35900955f638');\n",
              "          const dataTable =\n",
              "            await google.colab.kernel.invokeFunction('convertToInteractive',\n",
              "                                                     [key], {});\n",
              "          if (!dataTable) return;\n",
              "\n",
              "          const docLinkHtml = 'Like what you see? Visit the ' +\n",
              "            '<a target=\"_blank\" href=https://colab.research.google.com/notebooks/data_table.ipynb>data table notebook</a>'\n",
              "            + ' to learn more about interactive tables.';\n",
              "          element.innerHTML = '';\n",
              "          dataTable['output_type'] = 'display_data';\n",
              "          await google.colab.output.renderOutput(dataTable, element);\n",
              "          const docLink = document.createElement('div');\n",
              "          docLink.innerHTML = docLinkHtml;\n",
              "          element.appendChild(docLink);\n",
              "        }\n",
              "      </script>\n",
              "    </div>\n",
              "  </div>\n",
              "  "
            ]
          },
          "metadata": {},
          "execution_count": 74
        }
      ],
      "source": [
        "count_town_response_pct = pd.crosstab(data['new_contract_this_campaign'],data['town']).apply(lambda x: x/x.sum() * 100)\n",
        "count_town_response_pct = count_town_response_pct.transpose() \n",
        "count_town_response_pct"
      ]
    },
    {
      "cell_type": "code",
      "execution_count": null,
      "metadata": {
        "colab": {
          "base_uri": "https://localhost:8080/"
        },
        "id": "TttY3ixgUyq1",
        "outputId": "7dd24092-ba05-4be7-ab3e-4c7d51046fbb"
      },
      "outputs": [
        {
          "output_type": "execute_result",
          "data": {
            "text/plain": [
              "(50662, 21)"
            ]
          },
          "metadata": {},
          "execution_count": 75
        }
      ],
      "source": [
        "data.shape"
      ]
    },
    {
      "cell_type": "code",
      "execution_count": null,
      "metadata": {
        "colab": {
          "base_uri": "https://localhost:8080/"
        },
        "id": "jvi4CwWgST24",
        "outputId": "b475059f-6331-4667-87cd-8f97ac7e608b"
      },
      "outputs": [
        {
          "output_type": "execute_result",
          "data": {
            "text/plain": [
              "                     % new_contract\n",
              "St Albans                 23.958333\n",
              "Preston                   23.844282\n",
              "Solihull                  23.584906\n",
              "Basildon                  23.529412\n",
              "Cheltenham                23.393316\n",
              "...                             ...\n",
              "Newcastle upon Tyne       16.052632\n",
              "Southend-on-Sea           15.733333\n",
              "Kingston upon Hull        15.402844\n",
              "Wakefield                 14.843750\n",
              "Colchester                14.617169\n",
              "\n",
              "[101 rows x 1 columns]"
            ],
            "text/html": [
              "\n",
              "  <div id=\"df-5fc1a2d0-f8be-4a48-8993-0ac3dd6dd7f8\">\n",
              "    <div class=\"colab-df-container\">\n",
              "      <div>\n",
              "<style scoped>\n",
              "    .dataframe tbody tr th:only-of-type {\n",
              "        vertical-align: middle;\n",
              "    }\n",
              "\n",
              "    .dataframe tbody tr th {\n",
              "        vertical-align: top;\n",
              "    }\n",
              "\n",
              "    .dataframe thead th {\n",
              "        text-align: right;\n",
              "    }\n",
              "</style>\n",
              "<table border=\"1\" class=\"dataframe\">\n",
              "  <thead>\n",
              "    <tr style=\"text-align: right;\">\n",
              "      <th></th>\n",
              "      <th>% new_contract</th>\n",
              "    </tr>\n",
              "  </thead>\n",
              "  <tbody>\n",
              "    <tr>\n",
              "      <th>St Albans</th>\n",
              "      <td>23.958333</td>\n",
              "    </tr>\n",
              "    <tr>\n",
              "      <th>Preston</th>\n",
              "      <td>23.844282</td>\n",
              "    </tr>\n",
              "    <tr>\n",
              "      <th>Solihull</th>\n",
              "      <td>23.584906</td>\n",
              "    </tr>\n",
              "    <tr>\n",
              "      <th>Basildon</th>\n",
              "      <td>23.529412</td>\n",
              "    </tr>\n",
              "    <tr>\n",
              "      <th>Cheltenham</th>\n",
              "      <td>23.393316</td>\n",
              "    </tr>\n",
              "    <tr>\n",
              "      <th>...</th>\n",
              "      <td>...</td>\n",
              "    </tr>\n",
              "    <tr>\n",
              "      <th>Newcastle upon Tyne</th>\n",
              "      <td>16.052632</td>\n",
              "    </tr>\n",
              "    <tr>\n",
              "      <th>Southend-on-Sea</th>\n",
              "      <td>15.733333</td>\n",
              "    </tr>\n",
              "    <tr>\n",
              "      <th>Kingston upon Hull</th>\n",
              "      <td>15.402844</td>\n",
              "    </tr>\n",
              "    <tr>\n",
              "      <th>Wakefield</th>\n",
              "      <td>14.843750</td>\n",
              "    </tr>\n",
              "    <tr>\n",
              "      <th>Colchester</th>\n",
              "      <td>14.617169</td>\n",
              "    </tr>\n",
              "  </tbody>\n",
              "</table>\n",
              "<p>101 rows × 1 columns</p>\n",
              "</div>\n",
              "      <button class=\"colab-df-convert\" onclick=\"convertToInteractive('df-5fc1a2d0-f8be-4a48-8993-0ac3dd6dd7f8')\"\n",
              "              title=\"Convert this dataframe to an interactive table.\"\n",
              "              style=\"display:none;\">\n",
              "        \n",
              "  <svg xmlns=\"http://www.w3.org/2000/svg\" height=\"24px\"viewBox=\"0 0 24 24\"\n",
              "       width=\"24px\">\n",
              "    <path d=\"M0 0h24v24H0V0z\" fill=\"none\"/>\n",
              "    <path d=\"M18.56 5.44l.94 2.06.94-2.06 2.06-.94-2.06-.94-.94-2.06-.94 2.06-2.06.94zm-11 1L8.5 8.5l.94-2.06 2.06-.94-2.06-.94L8.5 2.5l-.94 2.06-2.06.94zm10 10l.94 2.06.94-2.06 2.06-.94-2.06-.94-.94-2.06-.94 2.06-2.06.94z\"/><path d=\"M17.41 7.96l-1.37-1.37c-.4-.4-.92-.59-1.43-.59-.52 0-1.04.2-1.43.59L10.3 9.45l-7.72 7.72c-.78.78-.78 2.05 0 2.83L4 21.41c.39.39.9.59 1.41.59.51 0 1.02-.2 1.41-.59l7.78-7.78 2.81-2.81c.8-.78.8-2.07 0-2.86zM5.41 20L4 18.59l7.72-7.72 1.47 1.35L5.41 20z\"/>\n",
              "  </svg>\n",
              "      </button>\n",
              "      \n",
              "  <style>\n",
              "    .colab-df-container {\n",
              "      display:flex;\n",
              "      flex-wrap:wrap;\n",
              "      gap: 12px;\n",
              "    }\n",
              "\n",
              "    .colab-df-convert {\n",
              "      background-color: #E8F0FE;\n",
              "      border: none;\n",
              "      border-radius: 50%;\n",
              "      cursor: pointer;\n",
              "      display: none;\n",
              "      fill: #1967D2;\n",
              "      height: 32px;\n",
              "      padding: 0 0 0 0;\n",
              "      width: 32px;\n",
              "    }\n",
              "\n",
              "    .colab-df-convert:hover {\n",
              "      background-color: #E2EBFA;\n",
              "      box-shadow: 0px 1px 2px rgba(60, 64, 67, 0.3), 0px 1px 3px 1px rgba(60, 64, 67, 0.15);\n",
              "      fill: #174EA6;\n",
              "    }\n",
              "\n",
              "    [theme=dark] .colab-df-convert {\n",
              "      background-color: #3B4455;\n",
              "      fill: #D2E3FC;\n",
              "    }\n",
              "\n",
              "    [theme=dark] .colab-df-convert:hover {\n",
              "      background-color: #434B5C;\n",
              "      box-shadow: 0px 1px 3px 1px rgba(0, 0, 0, 0.15);\n",
              "      filter: drop-shadow(0px 1px 2px rgba(0, 0, 0, 0.3));\n",
              "      fill: #FFFFFF;\n",
              "    }\n",
              "  </style>\n",
              "\n",
              "      <script>\n",
              "        const buttonEl =\n",
              "          document.querySelector('#df-5fc1a2d0-f8be-4a48-8993-0ac3dd6dd7f8 button.colab-df-convert');\n",
              "        buttonEl.style.display =\n",
              "          google.colab.kernel.accessAllowed ? 'block' : 'none';\n",
              "\n",
              "        async function convertToInteractive(key) {\n",
              "          const element = document.querySelector('#df-5fc1a2d0-f8be-4a48-8993-0ac3dd6dd7f8');\n",
              "          const dataTable =\n",
              "            await google.colab.kernel.invokeFunction('convertToInteractive',\n",
              "                                                     [key], {});\n",
              "          if (!dataTable) return;\n",
              "\n",
              "          const docLinkHtml = 'Like what you see? Visit the ' +\n",
              "            '<a target=\"_blank\" href=https://colab.research.google.com/notebooks/data_table.ipynb>data table notebook</a>'\n",
              "            + ' to learn more about interactive tables.';\n",
              "          element.innerHTML = '';\n",
              "          dataTable['output_type'] = 'display_data';\n",
              "          await google.colab.output.renderOutput(dataTable, element);\n",
              "          const docLink = document.createElement('div');\n",
              "          docLink.innerHTML = docLinkHtml;\n",
              "          element.appendChild(docLink);\n",
              "        }\n",
              "      </script>\n",
              "    </div>\n",
              "  </div>\n",
              "  "
            ]
          },
          "metadata": {},
          "execution_count": 76
        }
      ],
      "source": [
        "town = pd.DataFrame(data['town'].value_counts())\n",
        "town['% new_contract'] = count_town_response_pct['yes']\n",
        "town.drop('town',axis = 1,inplace = True)\n",
        "\n",
        "town = town.sort_values('% new_contract',ascending = False)\n",
        "town"
      ]
    },
    {
      "cell_type": "code",
      "execution_count": null,
      "metadata": {
        "colab": {
          "base_uri": "https://localhost:8080/"
        },
        "id": "ONwK5MJ1UltZ",
        "outputId": "62902092-79b9-47e4-f5d8-4035ff3c84d5"
      },
      "outputs": [
        {
          "output_type": "display_data",
          "data": {
            "text/plain": [
              "<Figure size 1152x720 with 1 Axes>"
            ],
            "image/png": "[encoded data removed]"
          },
          "metadata": {
            "needs_background": "light"
          }
        }
      ],
      "source": [
        "plot_age = town[:10].plot(kind = 'bar',figsize=(16,10))\n",
        "plt.xlabel('Town')\n",
        "plt.ylabel('Target')\n",
        "plt.title('Town v Target')\n",
        "plt.show()"
      ]
    },
    {
      "cell_type": "code",
      "execution_count": null,
      "metadata": {
        "colab": {
          "base_uri": "https://localhost:8080/"
        },
        "id": "xDMTrPv6STvr",
        "outputId": "9bed4a2a-fe14-45b0-c931-edd945d2a6b6"
      },
      "outputs": [
        {
          "output_type": "execute_result",
          "data": {
            "text/plain": [
              "UK          50657\n",
              "France          2\n",
              "Germany         1\n",
              "USA             1\n",
              "Portugal        1\n",
              "Name: country, dtype: int64"
            ]
          },
          "metadata": {},
          "execution_count": 78
        }
      ],
      "source": [
        "data['country'].value_counts()"
      ]
    },
    {
      "cell_type": "markdown",
      "metadata": {
        "id": "LIX6aqFFUEKn"
      },
      "source": [
        "### Job v Target"
      ]
    },
    {
      "cell_type": "code",
      "execution_count": null,
      "metadata": {
        "id": "hU9RdnQmavl1"
      },
      "outputs": [],
      "source": [
        "count_job_response_pct = pd.crosstab(data['new_contract_this_campaign'],data['job']).apply(lambda x: x/x.sum() * 100)\n",
        "count_job_response_pct = count_job_response_pct.transpose()"
      ]
    },
    {
      "cell_type": "code",
      "execution_count": null,
      "metadata": {
        "colab": {
          "base_uri": "https://localhost:8080/"
        },
        "id": "eJHWlPOYavcv",
        "outputId": "50581aad-023a-4fe3-a7f9-12ddc65fccbe"
      },
      "outputs": [
        {
          "output_type": "execute_result",
          "data": {
            "text/plain": [
              "Text(0, 0.5, 'Job Category')"
            ]
          },
          "metadata": {},
          "execution_count": 80
        },
        {
          "output_type": "display_data",
          "data": {
            "text/plain": [
              "<Figure size 864x432 with 1 Axes>"
            ],
            "image/png": "[encoded data removed]"
          },
          "metadata": {
            "needs_background": "light"
          }
        }
      ],
      "source": [
        "plot_job = count_job_response_pct['yes'].sort_values(ascending = True).plot(kind ='barh',\n",
        "                                                                           figsize = (12,6))\n",
        "                                                                               \n",
        "plt.title('Job v Target')\n",
        "plt.xlabel('Target')\n",
        "plt.ylabel('Job Category')"
      ]
    },
    {
      "cell_type": "markdown",
      "metadata": {
        "id": "NZyCYmz8URmW"
      },
      "source": [
        "### Marital Status v Target"
      ]
    },
    {
      "cell_type": "code",
      "execution_count": null,
      "metadata": {
        "id": "2R1SORIoavRs"
      },
      "outputs": [],
      "source": [
        "count_married_response_pct = pd.crosstab(data['new_contract_this_campaign'],data['married']).apply(lambda x: x/x.sum() * 100)\n",
        "count_married_response_pct = count_married_response_pct.transpose()"
      ]
    },
    {
      "cell_type": "code",
      "execution_count": null,
      "metadata": {
        "colab": {
          "base_uri": "https://localhost:8080/"
        },
        "id": "Tj7Kxi9_avHb",
        "outputId": "23d154d2-1e6d-42e8-fce1-17ae4c082fd7"
      },
      "outputs": [
        {
          "output_type": "execute_result",
          "data": {
            "text/plain": [
              "Text(0, 0.5, 'Marital Category')"
            ]
          },
          "metadata": {},
          "execution_count": 82
        },
        {
          "output_type": "display_data",
          "data": {
            "text/plain": [
              "<Figure size 864x432 with 1 Axes>"
            ],
            "image/png": "[encoded data removed]"
          },
          "metadata": {
            "needs_background": "light"
          }
        }
      ],
      "source": [
        "plot_marriage = plot_job = count_married_response_pct['yes'].sort_values(ascending = True).plot(kind ='barh',\n",
        "                                                                           figsize = (12,6))\n",
        "                                                                               \n",
        "plt.title('Marital Status v Target')\n",
        "plt.xlabel('Target')\n",
        "plt.ylabel('Marital Category')"
      ]
    },
    {
      "cell_type": "markdown",
      "metadata": {
        "id": "8Tj0sMzGUjdz"
      },
      "source": [
        "### Education v Target"
      ]
    },
    {
      "cell_type": "code",
      "execution_count": null,
      "metadata": {
        "colab": {
          "base_uri": "https://localhost:8080/"
        },
        "id": "h5paADYddkPf",
        "outputId": "6064a6c8-e679-493f-8600-2482f97b87f6"
      },
      "outputs": [
        {
          "output_type": "execute_result",
          "data": {
            "text/plain": [
              "array(['tertiary', 'primary', 'secondary', 'unknown'], dtype=object)"
            ]
          },
          "metadata": {},
          "execution_count": 83
        }
      ],
      "source": [
        "data.education.unique()"
      ]
    },
    {
      "cell_type": "code",
      "execution_count": null,
      "metadata": {
        "id": "qekK2wqlau_P"
      },
      "outputs": [],
      "source": [
        "count_education_response_pct = pd.crosstab(data['new_contract_this_campaign'],data['education']).apply(lambda x: x/x.sum() * 100)\n",
        "count_education_response_pct = count_education_response_pct.transpose()"
      ]
    },
    {
      "cell_type": "code",
      "execution_count": null,
      "metadata": {
        "colab": {
          "base_uri": "https://localhost:8080/"
        },
        "id": "IZAT4TAedSXz",
        "outputId": "5db6f424-e78f-4135-d84f-ffaf477c6e65"
      },
      "outputs": [
        {
          "output_type": "execute_result",
          "data": {
            "text/plain": [
              "Text(0, 0.5, 'Education')"
            ]
          },
          "metadata": {},
          "execution_count": 85
        },
        {
          "output_type": "display_data",
          "data": {
            "text/plain": [
              "<Figure size 864x432 with 1 Axes>"
            ],
            "image/png": "[encoded data removed]"
          },
          "metadata": {
            "needs_background": "light"
          }
        }
      ],
      "source": [
        "plot_education = plot_job = count_education_response_pct['yes'].sort_values(ascending = True).plot(kind ='barh',\n",
        "                                                                           figsize = (12,6))\n",
        "                                                                               \n",
        "plt.title('Education v Target')\n",
        "plt.xlabel('Target')\n",
        "plt.ylabel('Education')"
      ]
    },
    {
      "cell_type": "markdown",
      "metadata": {
        "id": "krSbXjbaUwd6"
      },
      "source": [
        "# Feature Engineering"
      ]
    },
    {
      "cell_type": "markdown",
      "metadata": {
        "id": "kcrxQ8xvU-6r"
      },
      "source": [
        "### Change Months to Numneric"
      ]
    },
    {
      "cell_type": "code",
      "execution_count": null,
      "metadata": {
        "colab": {
          "base_uri": "https://localhost:8080/"
        },
        "id": "Bk9lVNjrd_V9",
        "outputId": "bc03697f-1a1d-4070-e85e-9912e6fc2346"
      },
      "outputs": [
        {
          "output_type": "execute_result",
          "data": {
            "text/plain": [
              "array(['jun', 'jul', 'may', 'aug', 'sep', 'feb', 'nov', 'mar', 'jan',\n",
              "       'apr', 'dec', 'oct', 'j'], dtype=object)"
            ]
          },
          "metadata": {},
          "execution_count": 86
        }
      ],
      "source": [
        "data.last_contact_this_campaign_month.unique()"
      ]
    },
    {
      "cell_type": "code",
      "execution_count": null,
      "metadata": {
        "colab": {
          "base_uri": "https://localhost:8080/"
        },
        "id": "KOnhcaa4d_Jo",
        "outputId": "afe24941-dc6d-431e-852b-d53e45880670"
      },
      "outputs": [
        {
          "output_type": "execute_result",
          "data": {
            "text/plain": [
              "            ID   town country  age         job  married  education arrears  \\\n",
              "3513  56786748  Wigan      UK   32  technician  married  secondary      no   \n",
              "\n",
              "      current_balance housing  ... last_contact conn_tr  \\\n",
              "3513              5.6      no  ...     cellular       4   \n",
              "\n",
              "      last_contact_this_campaign_day  last_contact_this_campaign_month  \\\n",
              "3513                               6                                 j   \n",
              "\n",
              "     this_campaign  days_since_last_contact_previous_campaign  \\\n",
              "3513             4                                         -1   \n",
              "\n",
              "      contacted_during_previous_campaign  outcome_previous_campaign  \\\n",
              "3513                                   0                    unknown   \n",
              "\n",
              "     new_contract_this_campaign age_group  \n",
              "3513                        yes      30.0  \n",
              "\n",
              "[1 rows x 21 columns]"
            ],
            "text/html": [
              "\n",
              "  <div id=\"df-a0b35655-5c8d-4873-8d85-4689edb34742\">\n",
              "    <div class=\"colab-df-container\">\n",
              "      <div>\n",
              "<style scoped>\n",
              "    .dataframe tbody tr th:only-of-type {\n",
              "        vertical-align: middle;\n",
              "    }\n",
              "\n",
              "    .dataframe tbody tr th {\n",
              "        vertical-align: top;\n",
              "    }\n",
              "\n",
              "    .dataframe thead th {\n",
              "        text-align: right;\n",
              "    }\n",
              "</style>\n",
              "<table border=\"1\" class=\"dataframe\">\n",
              "  <thead>\n",
              "    <tr style=\"text-align: right;\">\n",
              "      <th></th>\n",
              "      <th>ID</th>\n",
              "      <th>town</th>\n",
              "      <th>country</th>\n",
              "      <th>age</th>\n",
              "      <th>job</th>\n",
              "      <th>married</th>\n",
              "      <th>education</th>\n",
              "      <th>arrears</th>\n",
              "      <th>current_balance</th>\n",
              "      <th>housing</th>\n",
              "      <th>...</th>\n",
              "      <th>last_contact</th>\n",
              "      <th>conn_tr</th>\n",
              "      <th>last_contact_this_campaign_day</th>\n",
              "      <th>last_contact_this_campaign_month</th>\n",
              "      <th>this_campaign</th>\n",
              "      <th>days_since_last_contact_previous_campaign</th>\n",
              "      <th>contacted_during_previous_campaign</th>\n",
              "      <th>outcome_previous_campaign</th>\n",
              "      <th>new_contract_this_campaign</th>\n",
              "      <th>age_group</th>\n",
              "    </tr>\n",
              "  </thead>\n",
              "  <tbody>\n",
              "    <tr>\n",
              "      <th>3513</th>\n",
              "      <td>56786748</td>\n",
              "      <td>Wigan</td>\n",
              "      <td>UK</td>\n",
              "      <td>32</td>\n",
              "      <td>technician</td>\n",
              "      <td>married</td>\n",
              "      <td>secondary</td>\n",
              "      <td>no</td>\n",
              "      <td>5.6</td>\n",
              "      <td>no</td>\n",
              "      <td>...</td>\n",
              "      <td>cellular</td>\n",
              "      <td>4</td>\n",
              "      <td>6</td>\n",
              "      <td>j</td>\n",
              "      <td>4</td>\n",
              "      <td>-1</td>\n",
              "      <td>0</td>\n",
              "      <td>unknown</td>\n",
              "      <td>yes</td>\n",
              "      <td>30.0</td>\n",
              "    </tr>\n",
              "  </tbody>\n",
              "</table>\n",
              "<p>1 rows × 21 columns</p>\n",
              "</div>\n",
              "      <button class=\"colab-df-convert\" onclick=\"convertToInteractive('df-a0b35655-5c8d-4873-8d85-4689edb34742')\"\n",
              "              title=\"Convert this dataframe to an interactive table.\"\n",
              "              style=\"display:none;\">\n",
              "        \n",
              "  <svg xmlns=\"http://www.w3.org/2000/svg\" height=\"24px\"viewBox=\"0 0 24 24\"\n",
              "       width=\"24px\">\n",
              "    <path d=\"M0 0h24v24H0V0z\" fill=\"none\"/>\n",
              "    <path d=\"M18.56 5.44l.94 2.06.94-2.06 2.06-.94-2.06-.94-.94-2.06-.94 2.06-2.06.94zm-11 1L8.5 8.5l.94-2.06 2.06-.94-2.06-.94L8.5 2.5l-.94 2.06-2.06.94zm10 10l.94 2.06.94-2.06 2.06-.94-2.06-.94-.94-2.06-.94 2.06-2.06.94z\"/><path d=\"M17.41 7.96l-1.37-1.37c-.4-.4-.92-.59-1.43-.59-.52 0-1.04.2-1.43.59L10.3 9.45l-7.72 7.72c-.78.78-.78 2.05 0 2.83L4 21.41c.39.39.9.59 1.41.59.51 0 1.02-.2 1.41-.59l7.78-7.78 2.81-2.81c.8-.78.8-2.07 0-2.86zM5.41 20L4 18.59l7.72-7.72 1.47 1.35L5.41 20z\"/>\n",
              "  </svg>\n",
              "      </button>\n",
              "      \n",
              "  <style>\n",
              "    .colab-df-container {\n",
              "      display:flex;\n",
              "      flex-wrap:wrap;\n",
              "      gap: 12px;\n",
              "    }\n",
              "\n",
              "    .colab-df-convert {\n",
              "      background-color: #E8F0FE;\n",
              "      border: none;\n",
              "      border-radius: 50%;\n",
              "      cursor: pointer;\n",
              "      display: none;\n",
              "      fill: #1967D2;\n",
              "      height: 32px;\n",
              "      padding: 0 0 0 0;\n",
              "      width: 32px;\n",
              "    }\n",
              "\n",
              "    .colab-df-convert:hover {\n",
              "      background-color: #E2EBFA;\n",
              "      box-shadow: 0px 1px 2px rgba(60, 64, 67, 0.3), 0px 1px 3px 1px rgba(60, 64, 67, 0.15);\n",
              "      fill: #174EA6;\n",
              "    }\n",
              "\n",
              "    [theme=dark] .colab-df-convert {\n",
              "      background-color: #3B4455;\n",
              "      fill: #D2E3FC;\n",
              "    }\n",
              "\n",
              "    [theme=dark] .colab-df-convert:hover {\n",
              "      background-color: #434B5C;\n",
              "      box-shadow: 0px 1px 3px 1px rgba(0, 0, 0, 0.15);\n",
              "      filter: drop-shadow(0px 1px 2px rgba(0, 0, 0, 0.3));\n",
              "      fill: #FFFFFF;\n",
              "    }\n",
              "  </style>\n",
              "\n",
              "      <script>\n",
              "        const buttonEl =\n",
              "          document.querySelector('#df-a0b35655-5c8d-4873-8d85-4689edb34742 button.colab-df-convert');\n",
              "        buttonEl.style.display =\n",
              "          google.colab.kernel.accessAllowed ? 'block' : 'none';\n",
              "\n",
              "        async function convertToInteractive(key) {\n",
              "          const element = document.querySelector('#df-a0b35655-5c8d-4873-8d85-4689edb34742');\n",
              "          const dataTable =\n",
              "            await google.colab.kernel.invokeFunction('convertToInteractive',\n",
              "                                                     [key], {});\n",
              "          if (!dataTable) return;\n",
              "\n",
              "          const docLinkHtml = 'Like what you see? Visit the ' +\n",
              "            '<a target=\"_blank\" href=https://colab.research.google.com/notebooks/data_table.ipynb>data table notebook</a>'\n",
              "            + ' to learn more about interactive tables.';\n",
              "          element.innerHTML = '';\n",
              "          dataTable['output_type'] = 'display_data';\n",
              "          await google.colab.output.renderOutput(dataTable, element);\n",
              "          const docLink = document.createElement('div');\n",
              "          docLink.innerHTML = docLinkHtml;\n",
              "          element.appendChild(docLink);\n",
              "        }\n",
              "      </script>\n",
              "    </div>\n",
              "  </div>\n",
              "  "
            ]
          },
          "metadata": {},
          "execution_count": 87
        }
      ],
      "source": [
        "#locate column that has month as 'j'\n",
        "data.loc[data['last_contact_this_campaign_month']=='j']"
      ]
    },
    {
      "cell_type": "code",
      "execution_count": null,
      "metadata": {
        "id": "KtJXO7Dgd-YP"
      },
      "outputs": [],
      "source": [
        "#drop column that has month as 'j'\n",
        "data = data.drop(data.index[3513])"
      ]
    },
    {
      "cell_type": "code",
      "execution_count": null,
      "metadata": {
        "colab": {
          "base_uri": "https://localhost:8080/"
        },
        "id": "uc_w1Ehsh4hw",
        "outputId": "d3b36781-6cbc-48b2-fd24-f7063fd3031a"
      },
      "outputs": [
        {
          "output_type": "execute_result",
          "data": {
            "text/plain": [
              "array(['jun', 'jul', 'may', 'aug', 'sep', 'feb', 'nov', 'mar', 'jan',\n",
              "       'apr', 'dec', 'oct'], dtype=object)"
            ]
          },
          "metadata": {},
          "execution_count": 89
        }
      ],
      "source": [
        "data.last_contact_this_campaign_month.unique()"
      ]
    },
    {
      "cell_type": "code",
      "execution_count": null,
      "metadata": {
        "colab": {
          "base_uri": "https://localhost:8080/"
        },
        "id": "q-xVcimsiYYe",
        "outputId": "14565a6a-e1a9-4ef5-c2bd-adfbdab01610"
      },
      "outputs": [
        {
          "output_type": "execute_result",
          "data": {
            "text/plain": [
              "         ID           town country  age         job   married  education  \\\n",
              "0  32390233        Bristol      UK   39  management   married   tertiary   \n",
              "1  41226029       Basildon      UK   53   housemaid   married    primary   \n",
              "2  85498057      Blackburn      UK   79     retired  divorced    primary   \n",
              "3  76539627         Oldham      UK   43    services    single  secondary   \n",
              "4  76290986  Middlesbrough      UK   35  technician    single  secondary   \n",
              "\n",
              "  arrears  current_balance housing  ... last_contact conn_tr  \\\n",
              "0      no            -1.90      no  ...      unknown       4   \n",
              "1      no             3.62      no  ...     cellular       1   \n",
              "2      no            27.87      no  ...    telephone       3   \n",
              "3      no             5.50     yes  ...     cellular       3   \n",
              "4      no             3.44      no  ...     cellular       2   \n",
              "\n",
              "   last_contact_this_campaign_day  last_contact_this_campaign_month  \\\n",
              "0                              11                                 6   \n",
              "1                              28                                 7   \n",
              "2                              13                                 7   \n",
              "3                              13                                 5   \n",
              "4                              27                                 8   \n",
              "\n",
              "   this_campaign  days_since_last_contact_previous_campaign  \\\n",
              "0              8                                         -1   \n",
              "1              2                                         -1   \n",
              "2              1                                        377   \n",
              "3              2                                         -1   \n",
              "4             16                                         -1   \n",
              "\n",
              "   contacted_during_previous_campaign  outcome_previous_campaign  \\\n",
              "0                                   0                    unknown   \n",
              "1                                   0                    unknown   \n",
              "2                                   1                    success   \n",
              "3                                   0                    unknown   \n",
              "4                                   0                    unknown   \n",
              "\n",
              "  new_contract_this_campaign age_group  \n",
              "0                        yes      30.0  \n",
              "1                        yes      50.0  \n",
              "2                        yes      60.0  \n",
              "3                         no      40.0  \n",
              "4                        yes      30.0  \n",
              "\n",
              "[5 rows x 21 columns]"
            ],
            "text/html": [
              "\n",
              "  <div id=\"df-f23bf7bc-89f1-4bae-8d2d-08c8f8273537\">\n",
              "    <div class=\"colab-df-container\">\n",
              "      <div>\n",
              "<style scoped>\n",
              "    .dataframe tbody tr th:only-of-type {\n",
              "        vertical-align: middle;\n",
              "    }\n",
              "\n",
              "    .dataframe tbody tr th {\n",
              "        vertical-align: top;\n",
              "    }\n",
              "\n",
              "    .dataframe thead th {\n",
              "        text-align: right;\n",
              "    }\n",
              "</style>\n",
              "<table border=\"1\" class=\"dataframe\">\n",
              "  <thead>\n",
              "    <tr style=\"text-align: right;\">\n",
              "      <th></th>\n",
              "      <th>ID</th>\n",
              "      <th>town</th>\n",
              "      <th>country</th>\n",
              "      <th>age</th>\n",
              "      <th>job</th>\n",
              "      <th>married</th>\n",
              "      <th>education</th>\n",
              "      <th>arrears</th>\n",
              "      <th>current_balance</th>\n",
              "      <th>housing</th>\n",
              "      <th>...</th>\n",
              "      <th>last_contact</th>\n",
              "      <th>conn_tr</th>\n",
              "      <th>last_contact_this_campaign_day</th>\n",
              "      <th>last_contact_this_campaign_month</th>\n",
              "      <th>this_campaign</th>\n",
              "      <th>days_since_last_contact_previous_campaign</th>\n",
              "      <th>contacted_during_previous_campaign</th>\n",
              "      <th>outcome_previous_campaign</th>\n",
              "      <th>new_contract_this_campaign</th>\n",
              "      <th>age_group</th>\n",
              "    </tr>\n",
              "  </thead>\n",
              "  <tbody>\n",
              "    <tr>\n",
              "      <th>0</th>\n",
              "      <td>32390233</td>\n",
              "      <td>Bristol</td>\n",
              "      <td>UK</td>\n",
              "      <td>39</td>\n",
              "      <td>management</td>\n",
              "      <td>married</td>\n",
              "      <td>tertiary</td>\n",
              "      <td>no</td>\n",
              "      <td>-1.90</td>\n",
              "      <td>no</td>\n",
              "      <td>...</td>\n",
              "      <td>unknown</td>\n",
              "      <td>4</td>\n",
              "      <td>11</td>\n",
              "      <td>6</td>\n",
              "      <td>8</td>\n",
              "      <td>-1</td>\n",
              "      <td>0</td>\n",
              "      <td>unknown</td>\n",
              "      <td>yes</td>\n",
              "      <td>30.0</td>\n",
              "    </tr>\n",
              "    <tr>\n",
              "      <th>1</th>\n",
              "      <td>41226029</td>\n",
              "      <td>Basildon</td>\n",
              "      <td>UK</td>\n",
              "      <td>53</td>\n",
              "      <td>housemaid</td>\n",
              "      <td>married</td>\n",
              "      <td>primary</td>\n",
              "      <td>no</td>\n",
              "      <td>3.62</td>\n",
              "      <td>no</td>\n",
              "      <td>...</td>\n",
              "      <td>cellular</td>\n",
              "      <td>1</td>\n",
              "      <td>28</td>\n",
              "      <td>7</td>\n",
              "      <td>2</td>\n",
              "      <td>-1</td>\n",
              "      <td>0</td>\n",
              "      <td>unknown</td>\n",
              "      <td>yes</td>\n",
              "      <td>50.0</td>\n",
              "    </tr>\n",
              "    <tr>\n",
              "      <th>2</th>\n",
              "      <td>85498057</td>\n",
              "      <td>Blackburn</td>\n",
              "      <td>UK</td>\n",
              "      <td>79</td>\n",
              "      <td>retired</td>\n",
              "      <td>divorced</td>\n",
              "      <td>primary</td>\n",
              "      <td>no</td>\n",
              "      <td>27.87</td>\n",
              "      <td>no</td>\n",
              "      <td>...</td>\n",
              "      <td>telephone</td>\n",
              "      <td>3</td>\n",
              "      <td>13</td>\n",
              "      <td>7</td>\n",
              "      <td>1</td>\n",
              "      <td>377</td>\n",
              "      <td>1</td>\n",
              "      <td>success</td>\n",
              "      <td>yes</td>\n",
              "      <td>60.0</td>\n",
              "    </tr>\n",
              "    <tr>\n",
              "      <th>3</th>\n",
              "      <td>76539627</td>\n",
              "      <td>Oldham</td>\n",
              "      <td>UK</td>\n",
              "      <td>43</td>\n",
              "      <td>services</td>\n",
              "      <td>single</td>\n",
              "      <td>secondary</td>\n",
              "      <td>no</td>\n",
              "      <td>5.50</td>\n",
              "      <td>yes</td>\n",
              "      <td>...</td>\n",
              "      <td>cellular</td>\n",
              "      <td>3</td>\n",
              "      <td>13</td>\n",
              "      <td>5</td>\n",
              "      <td>2</td>\n",
              "      <td>-1</td>\n",
              "      <td>0</td>\n",
              "      <td>unknown</td>\n",
              "      <td>no</td>\n",
              "      <td>40.0</td>\n",
              "    </tr>\n",
              "    <tr>\n",
              "      <th>4</th>\n",
              "      <td>76290986</td>\n",
              "      <td>Middlesbrough</td>\n",
              "      <td>UK</td>\n",
              "      <td>35</td>\n",
              "      <td>technician</td>\n",
              "      <td>single</td>\n",
              "      <td>secondary</td>\n",
              "      <td>no</td>\n",
              "      <td>3.44</td>\n",
              "      <td>no</td>\n",
              "      <td>...</td>\n",
              "      <td>cellular</td>\n",
              "      <td>2</td>\n",
              "      <td>27</td>\n",
              "      <td>8</td>\n",
              "      <td>16</td>\n",
              "      <td>-1</td>\n",
              "      <td>0</td>\n",
              "      <td>unknown</td>\n",
              "      <td>yes</td>\n",
              "      <td>30.0</td>\n",
              "    </tr>\n",
              "  </tbody>\n",
              "</table>\n",
              "<p>5 rows × 21 columns</p>\n",
              "</div>\n",
              "      <button class=\"colab-df-convert\" onclick=\"convertToInteractive('df-f23bf7bc-89f1-4bae-8d2d-08c8f8273537')\"\n",
              "              title=\"Convert this dataframe to an interactive table.\"\n",
              "              style=\"display:none;\">\n",
              "        \n",
              "  <svg xmlns=\"http://www.w3.org/2000/svg\" height=\"24px\"viewBox=\"0 0 24 24\"\n",
              "       width=\"24px\">\n",
              "    <path d=\"M0 0h24v24H0V0z\" fill=\"none\"/>\n",
              "    <path d=\"M18.56 5.44l.94 2.06.94-2.06 2.06-.94-2.06-.94-.94-2.06-.94 2.06-2.06.94zm-11 1L8.5 8.5l.94-2.06 2.06-.94-2.06-.94L8.5 2.5l-.94 2.06-2.06.94zm10 10l.94 2.06.94-2.06 2.06-.94-2.06-.94-.94-2.06-.94 2.06-2.06.94z\"/><path d=\"M17.41 7.96l-1.37-1.37c-.4-.4-.92-.59-1.43-.59-.52 0-1.04.2-1.43.59L10.3 9.45l-7.72 7.72c-.78.78-.78 2.05 0 2.83L4 21.41c.39.39.9.59 1.41.59.51 0 1.02-.2 1.41-.59l7.78-7.78 2.81-2.81c.8-.78.8-2.07 0-2.86zM5.41 20L4 18.59l7.72-7.72 1.47 1.35L5.41 20z\"/>\n",
              "  </svg>\n",
              "      </button>\n",
              "      \n",
              "  <style>\n",
              "    .colab-df-container {\n",
              "      display:flex;\n",
              "      flex-wrap:wrap;\n",
              "      gap: 12px;\n",
              "    }\n",
              "\n",
              "    .colab-df-convert {\n",
              "      background-color: #E8F0FE;\n",
              "      border: none;\n",
              "      border-radius: 50%;\n",
              "      cursor: pointer;\n",
              "      display: none;\n",
              "      fill: #1967D2;\n",
              "      height: 32px;\n",
              "      padding: 0 0 0 0;\n",
              "      width: 32px;\n",
              "    }\n",
              "\n",
              "    .colab-df-convert:hover {\n",
              "      background-color: #E2EBFA;\n",
              "      box-shadow: 0px 1px 2px rgba(60, 64, 67, 0.3), 0px 1px 3px 1px rgba(60, 64, 67, 0.15);\n",
              "      fill: #174EA6;\n",
              "    }\n",
              "\n",
              "    [theme=dark] .colab-df-convert {\n",
              "      background-color: #3B4455;\n",
              "      fill: #D2E3FC;\n",
              "    }\n",
              "\n",
              "    [theme=dark] .colab-df-convert:hover {\n",
              "      background-color: #434B5C;\n",
              "      box-shadow: 0px 1px 3px 1px rgba(0, 0, 0, 0.15);\n",
              "      filter: drop-shadow(0px 1px 2px rgba(0, 0, 0, 0.3));\n",
              "      fill: #FFFFFF;\n",
              "    }\n",
              "  </style>\n",
              "\n",
              "      <script>\n",
              "        const buttonEl =\n",
              "          document.querySelector('#df-f23bf7bc-89f1-4bae-8d2d-08c8f8273537 button.colab-df-convert');\n",
              "        buttonEl.style.display =\n",
              "          google.colab.kernel.accessAllowed ? 'block' : 'none';\n",
              "\n",
              "        async function convertToInteractive(key) {\n",
              "          const element = document.querySelector('#df-f23bf7bc-89f1-4bae-8d2d-08c8f8273537');\n",
              "          const dataTable =\n",
              "            await google.colab.kernel.invokeFunction('convertToInteractive',\n",
              "                                                     [key], {});\n",
              "          if (!dataTable) return;\n",
              "\n",
              "          const docLinkHtml = 'Like what you see? Visit the ' +\n",
              "            '<a target=\"_blank\" href=https://colab.research.google.com/notebooks/data_table.ipynb>data table notebook</a>'\n",
              "            + ' to learn more about interactive tables.';\n",
              "          element.innerHTML = '';\n",
              "          dataTable['output_type'] = 'display_data';\n",
              "          await google.colab.output.renderOutput(dataTable, element);\n",
              "          const docLink = document.createElement('div');\n",
              "          docLink.innerHTML = docLinkHtml;\n",
              "          element.appendChild(docLink);\n",
              "        }\n",
              "      </script>\n",
              "    </div>\n",
              "  </div>\n",
              "  "
            ]
          },
          "metadata": {},
          "execution_count": 90
        }
      ],
      "source": [
        "#convert months to the numeric equivalent\n",
        "month = {'jan':1, 'feb':2, 'mar':3, 'apr':4, 'may':5, 'jun':6, 'jul':7, 'aug':8, 'sep':9, 'oct':10, 'nov':11, 'dec':12}\n",
        "\n",
        "data.last_contact_this_campaign_month = data.last_contact_this_campaign_month.apply(lambda x: month[x])\n",
        "data.head()"
      ]
    },
    {
      "cell_type": "markdown",
      "metadata": {
        "id": "XKhqCG-cVlUL"
      },
      "source": [
        "## Label Encoding for binary columns"
      ]
    },
    {
      "cell_type": "code",
      "execution_count": null,
      "metadata": {
        "id": "5ypfCm_pl3u0"
      },
      "outputs": [],
      "source": [
        "from sklearn.preprocessing import LabelEncoder\n",
        "encoder = LabelEncoder()"
      ]
    },
    {
      "cell_type": "code",
      "execution_count": null,
      "metadata": {
        "colab": {
          "base_uri": "https://localhost:8080/"
        },
        "id": "wWHswtYjzBmX",
        "outputId": "9dcc69fa-3ddf-4652-aa94-b34562c75b44"
      },
      "outputs": [
        {
          "output_type": "execute_result",
          "data": {
            "text/plain": [
              "Index(['ID', 'town', 'country', 'age', 'job', 'married', 'education',\n",
              "       'arrears', 'current_balance', 'housing', 'has_tv_package',\n",
              "       'last_contact', 'conn_tr', 'last_contact_this_campaign_day',\n",
              "       'last_contact_this_campaign_month', 'this_campaign',\n",
              "       'days_since_last_contact_previous_campaign',\n",
              "       'contacted_during_previous_campaign', 'outcome_previous_campaign',\n",
              "       'new_contract_this_campaign', 'age_group'],\n",
              "      dtype='object')"
            ]
          },
          "metadata": {},
          "execution_count": 92
        }
      ],
      "source": [
        "data.columns"
      ]
    },
    {
      "cell_type": "code",
      "execution_count": null,
      "metadata": {
        "id": "h28k_TBDl3ah"
      },
      "outputs": [],
      "source": [
        "data['new_contract_this_campaign'] = encoder.fit_transform(data['new_contract_this_campaign'])\n",
        "data['arrears'] = encoder.fit_transform(data['arrears'])\n",
        "data['housing'] = encoder.fit_transform(data['housing'])\n",
        "data['has_tv_package'] = encoder.fit_transform(data['has_tv_package'])"
      ]
    },
    {
      "cell_type": "markdown",
      "metadata": {
        "id": "55ia9wk6VtAF"
      },
      "source": [
        "## Convert categorical variables into dummy variables"
      ]
    },
    {
      "cell_type": "code",
      "execution_count": null,
      "metadata": {
        "id": "4gxFZLym0twU"
      },
      "outputs": [],
      "source": [
        "data = pd.get_dummies(data, columns=['job','married','education','last_contact','outcome_previous_campaign'])"
      ]
    },
    {
      "cell_type": "code",
      "source": [
        "data.head()"
      ],
      "metadata": {
        "colab": {
          "base_uri": "https://localhost:8080/",
          "height": 300
        },
        "id": "w9wejmo8gCMa",
        "outputId": "a5345d76-2901-4d69-98d0-51664826f255"
      },
      "execution_count": null,
      "outputs": [
        {
          "output_type": "execute_result",
          "data": {
            "text/plain": [
              "         ID           town country  age  arrears  current_balance  housing  \\\n",
              "0  32390233        Bristol      UK   39        0            -1.90        0   \n",
              "1  41226029       Basildon      UK   53        0             3.62        0   \n",
              "2  85498057      Blackburn      UK   79        0            27.87        0   \n",
              "3  76539627         Oldham      UK   43        0             5.50        1   \n",
              "4  76290986  Middlesbrough      UK   35        0             3.44        0   \n",
              "\n",
              "   has_tv_package  conn_tr  last_contact_this_campaign_day  ...  \\\n",
              "0               2        4                              11  ...   \n",
              "1               1        1                              28  ...   \n",
              "2               1        3                              13  ...   \n",
              "3               1        3                              13  ...   \n",
              "4               1        2                              27  ...   \n",
              "\n",
              "   education_tertiary  education_unknown  last_contact_cell  \\\n",
              "0                   1                  0                  0   \n",
              "1                   0                  0                  0   \n",
              "2                   0                  0                  0   \n",
              "3                   0                  0                  0   \n",
              "4                   0                  0                  0   \n",
              "\n",
              "   last_contact_cellular  last_contact_telephone  last_contact_unknown  \\\n",
              "0                      0                       0                     1   \n",
              "1                      1                       0                     0   \n",
              "2                      0                       1                     0   \n",
              "3                      1                       0                     0   \n",
              "4                      1                       0                     0   \n",
              "\n",
              "   outcome_previous_campaign_failure  outcome_previous_campaign_other  \\\n",
              "0                                  0                                0   \n",
              "1                                  0                                0   \n",
              "2                                  0                                0   \n",
              "3                                  0                                0   \n",
              "4                                  0                                0   \n",
              "\n",
              "   outcome_previous_campaign_success  outcome_previous_campaign_unknown  \n",
              "0                                  0                                  1  \n",
              "1                                  0                                  1  \n",
              "2                                  1                                  0  \n",
              "3                                  0                                  1  \n",
              "4                                  0                                  1  \n",
              "\n",
              "[5 rows x 43 columns]"
            ],
            "text/html": [
              "\n",
              "  <div id=\"df-430e483f-ead1-40b5-bf27-0bd60670b4a4\">\n",
              "    <div class=\"colab-df-container\">\n",
              "      <div>\n",
              "<style scoped>\n",
              "    .dataframe tbody tr th:only-of-type {\n",
              "        vertical-align: middle;\n",
              "    }\n",
              "\n",
              "    .dataframe tbody tr th {\n",
              "        vertical-align: top;\n",
              "    }\n",
              "\n",
              "    .dataframe thead th {\n",
              "        text-align: right;\n",
              "    }\n",
              "</style>\n",
              "<table border=\"1\" class=\"dataframe\">\n",
              "  <thead>\n",
              "    <tr style=\"text-align: right;\">\n",
              "      <th></th>\n",
              "      <th>ID</th>\n",
              "      <th>town</th>\n",
              "      <th>country</th>\n",
              "      <th>age</th>\n",
              "      <th>arrears</th>\n",
              "      <th>current_balance</th>\n",
              "      <th>housing</th>\n",
              "      <th>has_tv_package</th>\n",
              "      <th>conn_tr</th>\n",
              "      <th>last_contact_this_campaign_day</th>\n",
              "      <th>...</th>\n",
              "      <th>education_tertiary</th>\n",
              "      <th>education_unknown</th>\n",
              "      <th>last_contact_cell</th>\n",
              "      <th>last_contact_cellular</th>\n",
              "      <th>last_contact_telephone</th>\n",
              "      <th>last_contact_unknown</th>\n",
              "      <th>outcome_previous_campaign_failure</th>\n",
              "      <th>outcome_previous_campaign_other</th>\n",
              "      <th>outcome_previous_campaign_success</th>\n",
              "      <th>outcome_previous_campaign_unknown</th>\n",
              "    </tr>\n",
              "  </thead>\n",
              "  <tbody>\n",
              "    <tr>\n",
              "      <th>0</th>\n",
              "      <td>32390233</td>\n",
              "      <td>Bristol</td>\n",
              "      <td>UK</td>\n",
              "      <td>39</td>\n",
              "      <td>0</td>\n",
              "      <td>-1.90</td>\n",
              "      <td>0</td>\n",
              "      <td>2</td>\n",
              "      <td>4</td>\n",
              "      <td>11</td>\n",
              "      <td>...</td>\n",
              "      <td>1</td>\n",
              "      <td>0</td>\n",
              "      <td>0</td>\n",
              "      <td>0</td>\n",
              "      <td>0</td>\n",
              "      <td>1</td>\n",
              "      <td>0</td>\n",
              "      <td>0</td>\n",
              "      <td>0</td>\n",
              "      <td>1</td>\n",
              "    </tr>\n",
              "    <tr>\n",
              "      <th>1</th>\n",
              "      <td>41226029</td>\n",
              "      <td>Basildon</td>\n",
              "      <td>UK</td>\n",
              "      <td>53</td>\n",
              "      <td>0</td>\n",
              "      <td>3.62</td>\n",
              "      <td>0</td>\n",
              "      <td>1</td>\n",
              "      <td>1</td>\n",
              "      <td>28</td>\n",
              "      <td>...</td>\n",
              "      <td>0</td>\n",
              "      <td>0</td>\n",
              "      <td>0</td>\n",
              "      <td>1</td>\n",
              "      <td>0</td>\n",
              "      <td>0</td>\n",
              "      <td>0</td>\n",
              "      <td>0</td>\n",
              "      <td>0</td>\n",
              "      <td>1</td>\n",
              "    </tr>\n",
              "    <tr>\n",
              "      <th>2</th>\n",
              "      <td>85498057</td>\n",
              "      <td>Blackburn</td>\n",
              "      <td>UK</td>\n",
              "      <td>79</td>\n",
              "      <td>0</td>\n",
              "      <td>27.87</td>\n",
              "      <td>0</td>\n",
              "      <td>1</td>\n",
              "      <td>3</td>\n",
              "      <td>13</td>\n",
              "      <td>...</td>\n",
              "      <td>0</td>\n",
              "      <td>0</td>\n",
              "      <td>0</td>\n",
              "      <td>0</td>\n",
              "      <td>1</td>\n",
              "      <td>0</td>\n",
              "      <td>0</td>\n",
              "      <td>0</td>\n",
              "      <td>1</td>\n",
              "      <td>0</td>\n",
              "    </tr>\n",
              "    <tr>\n",
              "      <th>3</th>\n",
              "      <td>76539627</td>\n",
              "      <td>Oldham</td>\n",
              "      <td>UK</td>\n",
              "      <td>43</td>\n",
              "      <td>0</td>\n",
              "      <td>5.50</td>\n",
              "      <td>1</td>\n",
              "      <td>1</td>\n",
              "      <td>3</td>\n",
              "      <td>13</td>\n",
              "      <td>...</td>\n",
              "      <td>0</td>\n",
              "      <td>0</td>\n",
              "      <td>0</td>\n",
              "      <td>1</td>\n",
              "      <td>0</td>\n",
              "      <td>0</td>\n",
              "      <td>0</td>\n",
              "      <td>0</td>\n",
              "      <td>0</td>\n",
              "      <td>1</td>\n",
              "    </tr>\n",
              "    <tr>\n",
              "      <th>4</th>\n",
              "      <td>76290986</td>\n",
              "      <td>Middlesbrough</td>\n",
              "      <td>UK</td>\n",
              "      <td>35</td>\n",
              "      <td>0</td>\n",
              "      <td>3.44</td>\n",
              "      <td>0</td>\n",
              "      <td>1</td>\n",
              "      <td>2</td>\n",
              "      <td>27</td>\n",
              "      <td>...</td>\n",
              "      <td>0</td>\n",
              "      <td>0</td>\n",
              "      <td>0</td>\n",
              "      <td>1</td>\n",
              "      <td>0</td>\n",
              "      <td>0</td>\n",
              "      <td>0</td>\n",
              "      <td>0</td>\n",
              "      <td>0</td>\n",
              "      <td>1</td>\n",
              "    </tr>\n",
              "  </tbody>\n",
              "</table>\n",
              "<p>5 rows × 43 columns</p>\n",
              "</div>\n",
              "      <button class=\"colab-df-convert\" onclick=\"convertToInteractive('df-430e483f-ead1-40b5-bf27-0bd60670b4a4')\"\n",
              "              title=\"Convert this dataframe to an interactive table.\"\n",
              "              style=\"display:none;\">\n",
              "        \n",
              "  <svg xmlns=\"http://www.w3.org/2000/svg\" height=\"24px\"viewBox=\"0 0 24 24\"\n",
              "       width=\"24px\">\n",
              "    <path d=\"M0 0h24v24H0V0z\" fill=\"none\"/>\n",
              "    <path d=\"M18.56 5.44l.94 2.06.94-2.06 2.06-.94-2.06-.94-.94-2.06-.94 2.06-2.06.94zm-11 1L8.5 8.5l.94-2.06 2.06-.94-2.06-.94L8.5 2.5l-.94 2.06-2.06.94zm10 10l.94 2.06.94-2.06 2.06-.94-2.06-.94-.94-2.06-.94 2.06-2.06.94z\"/><path d=\"M17.41 7.96l-1.37-1.37c-.4-.4-.92-.59-1.43-.59-.52 0-1.04.2-1.43.59L10.3 9.45l-7.72 7.72c-.78.78-.78 2.05 0 2.83L4 21.41c.39.39.9.59 1.41.59.51 0 1.02-.2 1.41-.59l7.78-7.78 2.81-2.81c.8-.78.8-2.07 0-2.86zM5.41 20L4 18.59l7.72-7.72 1.47 1.35L5.41 20z\"/>\n",
              "  </svg>\n",
              "      </button>\n",
              "      \n",
              "  <style>\n",
              "    .colab-df-container {\n",
              "      display:flex;\n",
              "      flex-wrap:wrap;\n",
              "      gap: 12px;\n",
              "    }\n",
              "\n",
              "    .colab-df-convert {\n",
              "      background-color: #E8F0FE;\n",
              "      border: none;\n",
              "      border-radius: 50%;\n",
              "      cursor: pointer;\n",
              "      display: none;\n",
              "      fill: #1967D2;\n",
              "      height: 32px;\n",
              "      padding: 0 0 0 0;\n",
              "      width: 32px;\n",
              "    }\n",
              "\n",
              "    .colab-df-convert:hover {\n",
              "      background-color: #E2EBFA;\n",
              "      box-shadow: 0px 1px 2px rgba(60, 64, 67, 0.3), 0px 1px 3px 1px rgba(60, 64, 67, 0.15);\n",
              "      fill: #174EA6;\n",
              "    }\n",
              "\n",
              "    [theme=dark] .colab-df-convert {\n",
              "      background-color: #3B4455;\n",
              "      fill: #D2E3FC;\n",
              "    }\n",
              "\n",
              "    [theme=dark] .colab-df-convert:hover {\n",
              "      background-color: #434B5C;\n",
              "      box-shadow: 0px 1px 3px 1px rgba(0, 0, 0, 0.15);\n",
              "      filter: drop-shadow(0px 1px 2px rgba(0, 0, 0, 0.3));\n",
              "      fill: #FFFFFF;\n",
              "    }\n",
              "  </style>\n",
              "\n",
              "      <script>\n",
              "        const buttonEl =\n",
              "          document.querySelector('#df-430e483f-ead1-40b5-bf27-0bd60670b4a4 button.colab-df-convert');\n",
              "        buttonEl.style.display =\n",
              "          google.colab.kernel.accessAllowed ? 'block' : 'none';\n",
              "\n",
              "        async function convertToInteractive(key) {\n",
              "          const element = document.querySelector('#df-430e483f-ead1-40b5-bf27-0bd60670b4a4');\n",
              "          const dataTable =\n",
              "            await google.colab.kernel.invokeFunction('convertToInteractive',\n",
              "                                                     [key], {});\n",
              "          if (!dataTable) return;\n",
              "\n",
              "          const docLinkHtml = 'Like what you see? Visit the ' +\n",
              "            '<a target=\"_blank\" href=https://colab.research.google.com/notebooks/data_table.ipynb>data table notebook</a>'\n",
              "            + ' to learn more about interactive tables.';\n",
              "          element.innerHTML = '';\n",
              "          dataTable['output_type'] = 'display_data';\n",
              "          await google.colab.output.renderOutput(dataTable, element);\n",
              "          const docLink = document.createElement('div');\n",
              "          docLink.innerHTML = docLinkHtml;\n",
              "          element.appendChild(docLink);\n",
              "        }\n",
              "      </script>\n",
              "    </div>\n",
              "  </div>\n",
              "  "
            ]
          },
          "metadata": {},
          "execution_count": 95
        }
      ]
    },
    {
      "cell_type": "markdown",
      "metadata": {
        "id": "o3Xbog2GV8wM"
      },
      "source": [
        "# Feature selection using Pearson Correlation P-value"
      ]
    },
    {
      "cell_type": "code",
      "execution_count": null,
      "metadata": {
        "id": "hlRX90A3l3K3"
      },
      "outputs": [],
      "source": [
        "#drop ID column\n",
        "data.drop(columns=['ID','town','country'], axis=1, inplace=True)"
      ]
    },
    {
      "cell_type": "code",
      "execution_count": null,
      "metadata": {
        "id": "f-eQ-IMCl25c"
      },
      "outputs": [],
      "source": [
        "#create a copy of data frame\n",
        "data_nu = data.copy()\n",
        "Xnum = data.drop([\"new_contract_this_campaign\"], axis= \"columns\")\n",
        "ynum = data.new_contract_this_campaign\n"
      ]
    },
    {
      "cell_type": "code",
      "execution_count": null,
      "metadata": {
        "colab": {
          "base_uri": "https://localhost:8080/",
          "height": 1000
        },
        "id": "kf1cmUOUl2pr",
        "outputId": "9f315bb0-5475-472a-bbde-e318f2408b22"
      },
      "outputs": [
        {
          "output_type": "execute_result",
          "data": {
            "text/plain": [
              "                                           Pearson Corr.  p-value\n",
              "age                                               0.0305   0.0000\n",
              "arrears                                          -0.0298   0.0000\n",
              "current_balance                                   0.0640   0.0000\n",
              "housing                                          -0.1721   0.0000\n",
              "has_tv_package                                   -0.0852   0.0000\n",
              "conn_tr                                          -0.0024   0.5875\n",
              "last_contact_this_campaign_day                   -0.0386   0.0000\n",
              "last_contact_this_campaign_month                  0.0221   0.0000\n",
              "this_campaign                                    -0.0918   0.0000\n",
              "days_since_last_contact_previous_campaign         0.1267   0.0000\n",
              "contacted_during_previous_campaign                0.1124   0.0000\n",
              "age_group                                         0.0136   0.0022\n",
              "job_admin.                                        0.0048   0.2759\n",
              "job_blue-collar                                  -0.0890   0.0000\n",
              "job_entrepreneur                                 -0.0261   0.0000\n",
              "job_housemaid                                    -0.0168   0.0002\n",
              "job_management                                    0.0418   0.0000\n",
              "job_retired                                       0.0935   0.0000\n",
              "job_self-employed                                -0.0031   0.4795\n",
              "job_services                                     -0.0343   0.0000\n",
              "job_student                                       0.0908   0.0000\n",
              "job_technician                                   -0.0110   0.0132\n",
              "job_unemployed                                    0.0255   0.0000\n",
              "job_unknown                                      -0.0008   0.8584\n",
              "married_divorced                                  0.0025   0.5691\n",
              "married_married                                  -0.0724   0.0000\n",
              "married_single                                    0.0765   0.0000\n",
              "education_primary                                -0.0485   0.0000\n",
              "education_secondary                              -0.0454   0.0000\n",
              "education_tertiary                                0.0810   0.0000\n",
              "education_unknown                                 0.0134   0.0025\n",
              "last_contact_cell                                 0.0128   0.0041\n",
              "last_contact_cellular                             0.1701   0.0000\n",
              "last_contact_telephone                            0.0167   0.0002\n",
              "last_contact_unknown                             -0.1902   0.0000\n",
              "outcome_previous_campaign_failure                 0.0126   0.0045\n",
              "outcome_previous_campaign_other                   0.0386   0.0000\n",
              "outcome_previous_campaign_success                 0.3211   0.0000\n",
              "outcome_previous_campaign_unknown                -0.2006   0.0000"
            ],
            "text/html": [
              "\n",
              "  <div id=\"df-a0e6beae-0c69-4e13-8f60-b297181c4f7d\">\n",
              "    <div class=\"colab-df-container\">\n",
              "      <div>\n",
              "<style scoped>\n",
              "    .dataframe tbody tr th:only-of-type {\n",
              "        vertical-align: middle;\n",
              "    }\n",
              "\n",
              "    .dataframe tbody tr th {\n",
              "        vertical-align: top;\n",
              "    }\n",
              "\n",
              "    .dataframe thead th {\n",
              "        text-align: right;\n",
              "    }\n",
              "</style>\n",
              "<table border=\"1\" class=\"dataframe\">\n",
              "  <thead>\n",
              "    <tr style=\"text-align: right;\">\n",
              "      <th></th>\n",
              "      <th>Pearson Corr.</th>\n",
              "      <th>p-value</th>\n",
              "    </tr>\n",
              "  </thead>\n",
              "  <tbody>\n",
              "    <tr>\n",
              "      <th>age</th>\n",
              "      <td>0.0305</td>\n",
              "      <td>0.0000</td>\n",
              "    </tr>\n",
              "    <tr>\n",
              "      <th>arrears</th>\n",
              "      <td>-0.0298</td>\n",
              "      <td>0.0000</td>\n",
              "    </tr>\n",
              "    <tr>\n",
              "      <th>current_balance</th>\n",
              "      <td>0.0640</td>\n",
              "      <td>0.0000</td>\n",
              "    </tr>\n",
              "    <tr>\n",
              "      <th>housing</th>\n",
              "      <td>-0.1721</td>\n",
              "      <td>0.0000</td>\n",
              "    </tr>\n",
              "    <tr>\n",
              "      <th>has_tv_package</th>\n",
              "      <td>-0.0852</td>\n",
              "      <td>0.0000</td>\n",
              "    </tr>\n",
              "    <tr>\n",
              "      <th>conn_tr</th>\n",
              "      <td>-0.0024</td>\n",
              "      <td>0.5875</td>\n",
              "    </tr>\n",
              "    <tr>\n",
              "      <th>last_contact_this_campaign_day</th>\n",
              "      <td>-0.0386</td>\n",
              "      <td>0.0000</td>\n",
              "    </tr>\n",
              "    <tr>\n",
              "      <th>last_contact_this_campaign_month</th>\n",
              "      <td>0.0221</td>\n",
              "      <td>0.0000</td>\n",
              "    </tr>\n",
              "    <tr>\n",
              "      <th>this_campaign</th>\n",
              "      <td>-0.0918</td>\n",
              "      <td>0.0000</td>\n",
              "    </tr>\n",
              "    <tr>\n",
              "      <th>days_since_last_contact_previous_campaign</th>\n",
              "      <td>0.1267</td>\n",
              "      <td>0.0000</td>\n",
              "    </tr>\n",
              "    <tr>\n",
              "      <th>contacted_during_previous_campaign</th>\n",
              "      <td>0.1124</td>\n",
              "      <td>0.0000</td>\n",
              "    </tr>\n",
              "    <tr>\n",
              "      <th>age_group</th>\n",
              "      <td>0.0136</td>\n",
              "      <td>0.0022</td>\n",
              "    </tr>\n",
              "    <tr>\n",
              "      <th>job_admin.</th>\n",
              "      <td>0.0048</td>\n",
              "      <td>0.2759</td>\n",
              "    </tr>\n",
              "    <tr>\n",
              "      <th>job_blue-collar</th>\n",
              "      <td>-0.0890</td>\n",
              "      <td>0.0000</td>\n",
              "    </tr>\n",
              "    <tr>\n",
              "      <th>job_entrepreneur</th>\n",
              "      <td>-0.0261</td>\n",
              "      <td>0.0000</td>\n",
              "    </tr>\n",
              "    <tr>\n",
              "      <th>job_housemaid</th>\n",
              "      <td>-0.0168</td>\n",
              "      <td>0.0002</td>\n",
              "    </tr>\n",
              "    <tr>\n",
              "      <th>job_management</th>\n",
              "      <td>0.0418</td>\n",
              "      <td>0.0000</td>\n",
              "    </tr>\n",
              "    <tr>\n",
              "      <th>job_retired</th>\n",
              "      <td>0.0935</td>\n",
              "      <td>0.0000</td>\n",
              "    </tr>\n",
              "    <tr>\n",
              "      <th>job_self-employed</th>\n",
              "      <td>-0.0031</td>\n",
              "      <td>0.4795</td>\n",
              "    </tr>\n",
              "    <tr>\n",
              "      <th>job_services</th>\n",
              "      <td>-0.0343</td>\n",
              "      <td>0.0000</td>\n",
              "    </tr>\n",
              "    <tr>\n",
              "      <th>job_student</th>\n",
              "      <td>0.0908</td>\n",
              "      <td>0.0000</td>\n",
              "    </tr>\n",
              "    <tr>\n",
              "      <th>job_technician</th>\n",
              "      <td>-0.0110</td>\n",
              "      <td>0.0132</td>\n",
              "    </tr>\n",
              "    <tr>\n",
              "      <th>job_unemployed</th>\n",
              "      <td>0.0255</td>\n",
              "      <td>0.0000</td>\n",
              "    </tr>\n",
              "    <tr>\n",
              "      <th>job_unknown</th>\n",
              "      <td>-0.0008</td>\n",
              "      <td>0.8584</td>\n",
              "    </tr>\n",
              "    <tr>\n",
              "      <th>married_divorced</th>\n",
              "      <td>0.0025</td>\n",
              "      <td>0.5691</td>\n",
              "    </tr>\n",
              "    <tr>\n",
              "      <th>married_married</th>\n",
              "      <td>-0.0724</td>\n",
              "      <td>0.0000</td>\n",
              "    </tr>\n",
              "    <tr>\n",
              "      <th>married_single</th>\n",
              "      <td>0.0765</td>\n",
              "      <td>0.0000</td>\n",
              "    </tr>\n",
              "    <tr>\n",
              "      <th>education_primary</th>\n",
              "      <td>-0.0485</td>\n",
              "      <td>0.0000</td>\n",
              "    </tr>\n",
              "    <tr>\n",
              "      <th>education_secondary</th>\n",
              "      <td>-0.0454</td>\n",
              "      <td>0.0000</td>\n",
              "    </tr>\n",
              "    <tr>\n",
              "      <th>education_tertiary</th>\n",
              "      <td>0.0810</td>\n",
              "      <td>0.0000</td>\n",
              "    </tr>\n",
              "    <tr>\n",
              "      <th>education_unknown</th>\n",
              "      <td>0.0134</td>\n",
              "      <td>0.0025</td>\n",
              "    </tr>\n",
              "    <tr>\n",
              "      <th>last_contact_cell</th>\n",
              "      <td>0.0128</td>\n",
              "      <td>0.0041</td>\n",
              "    </tr>\n",
              "    <tr>\n",
              "      <th>last_contact_cellular</th>\n",
              "      <td>0.1701</td>\n",
              "      <td>0.0000</td>\n",
              "    </tr>\n",
              "    <tr>\n",
              "      <th>last_contact_telephone</th>\n",
              "      <td>0.0167</td>\n",
              "      <td>0.0002</td>\n",
              "    </tr>\n",
              "    <tr>\n",
              "      <th>last_contact_unknown</th>\n",
              "      <td>-0.1902</td>\n",
              "      <td>0.0000</td>\n",
              "    </tr>\n",
              "    <tr>\n",
              "      <th>outcome_previous_campaign_failure</th>\n",
              "      <td>0.0126</td>\n",
              "      <td>0.0045</td>\n",
              "    </tr>\n",
              "    <tr>\n",
              "      <th>outcome_previous_campaign_other</th>\n",
              "      <td>0.0386</td>\n",
              "      <td>0.0000</td>\n",
              "    </tr>\n",
              "    <tr>\n",
              "      <th>outcome_previous_campaign_success</th>\n",
              "      <td>0.3211</td>\n",
              "      <td>0.0000</td>\n",
              "    </tr>\n",
              "    <tr>\n",
              "      <th>outcome_previous_campaign_unknown</th>\n",
              "      <td>-0.2006</td>\n",
              "      <td>0.0000</td>\n",
              "    </tr>\n",
              "  </tbody>\n",
              "</table>\n",
              "</div>\n",
              "      <button class=\"colab-df-convert\" onclick=\"convertToInteractive('df-a0e6beae-0c69-4e13-8f60-b297181c4f7d')\"\n",
              "              title=\"Convert this dataframe to an interactive table.\"\n",
              "              style=\"display:none;\">\n",
              "        \n",
              "  <svg xmlns=\"http://www.w3.org/2000/svg\" height=\"24px\"viewBox=\"0 0 24 24\"\n",
              "       width=\"24px\">\n",
              "    <path d=\"M0 0h24v24H0V0z\" fill=\"none\"/>\n",
              "    <path d=\"M18.56 5.44l.94 2.06.94-2.06 2.06-.94-2.06-.94-.94-2.06-.94 2.06-2.06.94zm-11 1L8.5 8.5l.94-2.06 2.06-.94-2.06-.94L8.5 2.5l-.94 2.06-2.06.94zm10 10l.94 2.06.94-2.06 2.06-.94-2.06-.94-.94-2.06-.94 2.06-2.06.94z\"/><path d=\"M17.41 7.96l-1.37-1.37c-.4-.4-.92-.59-1.43-.59-.52 0-1.04.2-1.43.59L10.3 9.45l-7.72 7.72c-.78.78-.78 2.05 0 2.83L4 21.41c.39.39.9.59 1.41.59.51 0 1.02-.2 1.41-.59l7.78-7.78 2.81-2.81c.8-.78.8-2.07 0-2.86zM5.41 20L4 18.59l7.72-7.72 1.47 1.35L5.41 20z\"/>\n",
              "  </svg>\n",
              "      </button>\n",
              "      \n",
              "  <style>\n",
              "    .colab-df-container {\n",
              "      display:flex;\n",
              "      flex-wrap:wrap;\n",
              "      gap: 12px;\n",
              "    }\n",
              "\n",
              "    .colab-df-convert {\n",
              "      background-color: #E8F0FE;\n",
              "      border: none;\n",
              "      border-radius: 50%;\n",
              "      cursor: pointer;\n",
              "      display: none;\n",
              "      fill: #1967D2;\n",
              "      height: 32px;\n",
              "      padding: 0 0 0 0;\n",
              "      width: 32px;\n",
              "    }\n",
              "\n",
              "    .colab-df-convert:hover {\n",
              "      background-color: #E2EBFA;\n",
              "      box-shadow: 0px 1px 2px rgba(60, 64, 67, 0.3), 0px 1px 3px 1px rgba(60, 64, 67, 0.15);\n",
              "      fill: #174EA6;\n",
              "    }\n",
              "\n",
              "    [theme=dark] .colab-df-convert {\n",
              "      background-color: #3B4455;\n",
              "      fill: #D2E3FC;\n",
              "    }\n",
              "\n",
              "    [theme=dark] .colab-df-convert:hover {\n",
              "      background-color: #434B5C;\n",
              "      box-shadow: 0px 1px 3px 1px rgba(0, 0, 0, 0.15);\n",
              "      filter: drop-shadow(0px 1px 2px rgba(0, 0, 0, 0.3));\n",
              "      fill: #FFFFFF;\n",
              "    }\n",
              "  </style>\n",
              "\n",
              "      <script>\n",
              "        const buttonEl =\n",
              "          document.querySelector('#df-a0e6beae-0c69-4e13-8f60-b297181c4f7d button.colab-df-convert');\n",
              "        buttonEl.style.display =\n",
              "          google.colab.kernel.accessAllowed ? 'block' : 'none';\n",
              "\n",
              "        async function convertToInteractive(key) {\n",
              "          const element = document.querySelector('#df-a0e6beae-0c69-4e13-8f60-b297181c4f7d');\n",
              "          const dataTable =\n",
              "            await google.colab.kernel.invokeFunction('convertToInteractive',\n",
              "                                                     [key], {});\n",
              "          if (!dataTable) return;\n",
              "\n",
              "          const docLinkHtml = 'Like what you see? Visit the ' +\n",
              "            '<a target=\"_blank\" href=https://colab.research.google.com/notebooks/data_table.ipynb>data table notebook</a>'\n",
              "            + ' to learn more about interactive tables.';\n",
              "          element.innerHTML = '';\n",
              "          dataTable['output_type'] = 'display_data';\n",
              "          await google.colab.output.renderOutput(dataTable, element);\n",
              "          const docLink = document.createElement('div');\n",
              "          docLink.innerHTML = docLinkHtml;\n",
              "          element.appendChild(docLink);\n",
              "        }\n",
              "      </script>\n",
              "    </div>\n",
              "  </div>\n",
              "  "
            ]
          },
          "metadata": {},
          "execution_count": 98
        }
      ],
      "source": [
        "#feature selection using pearson correlation p-value\n",
        "pd.DataFrame(\n",
        "    [scipy.stats.pearsonr(Xnum[col], \n",
        "    ynum) for col in Xnum.columns], \n",
        "    columns=[\"Pearson Corr.\", \"p-value\"], \n",
        "    index=Xnum.columns,\n",
        ").round(4)"
      ]
    },
    {
      "cell_type": "code",
      "execution_count": null,
      "metadata": {
        "id": "BIZVNGw5l2ek"
      },
      "outputs": [],
      "source": [
        "#drop columns with p-value > 0.05 because they are not significant and have low information to the target variable\n",
        "\n",
        "data.drop(columns=['conn_tr','age_group','job_admin.','job_self-employed','job_unknown','married_divorced'], axis=1, inplace=True)"
      ]
    },
    {
      "cell_type": "markdown",
      "source": [
        "# Modeling"
      ],
      "metadata": {
        "id": "aa0T6OKZjr7o"
      }
    },
    {
      "cell_type": "code",
      "execution_count": null,
      "metadata": {
        "id": "ITa8bU6A8-lW"
      },
      "outputs": [],
      "source": [
        "X = data.drop(columns = ['new_contract_this_campaign'])\n",
        "y = data.new_contract_this_campaign"
      ]
    },
    {
      "cell_type": "markdown",
      "source": [
        "## Split Dataset"
      ],
      "metadata": {
        "id": "ak8AanFajvt0"
      }
    },
    {
      "cell_type": "code",
      "execution_count": null,
      "metadata": {
        "id": "z94XpCjM8-CU"
      },
      "outputs": [],
      "source": [
        "X_train, X_test, y_train, y_test = train_test_split(X,y, test_size = 0.2, stratify = y, random_state = 42)"
      ]
    },
    {
      "cell_type": "code",
      "execution_count": null,
      "metadata": {
        "id": "ifOf6Str89xJ"
      },
      "outputs": [],
      "source": [
        "models = []\n",
        "models.append(('LR', LogisticRegression()))\n",
        "models.append(('KNN', KNeighborsClassifier()))\n",
        "models.append(('CART', DecisionTreeClassifier()))\n",
        "models.append(('NB', GaussianNB()))\n",
        "models.append(('SVC', SVC()))\n",
        "models.append(('RF', RandomForestClassifier()))"
      ]
    },
    {
      "cell_type": "markdown",
      "source": [
        "## Cross Validation"
      ],
      "metadata": {
        "id": "tblg3vfjj3cD"
      }
    },
    {
      "cell_type": "code",
      "execution_count": null,
      "metadata": {
        "colab": {
          "base_uri": "https://localhost:8080/"
        },
        "id": "aMvpOVH689ec",
        "outputId": "a294c4e1-9172-48f4-96b7-6cf219c18ca6"
      },
      "outputs": [
        {
          "output_type": "stream",
          "name": "stdout",
          "text": [
            "LR: 0.741697 (0.010335)\n",
            "KNN: 0.791267 (0.006099)\n",
            "CART: 0.848951 (0.011512)\n",
            "NB: 0.718920 (0.010137)\n",
            "SVC: 0.669601 (0.017759)\n",
            "RF: 0.933539 (0.006295)\n"
          ]
        }
      ],
      "source": [
        "results_c = []\n",
        "names_c = []\n",
        "\n",
        "for name, model in models:\n",
        "    kfold = KFold(n_splits=10, random_state=42, shuffle=True)    \n",
        "    cv_results = cross_val_score(model, X_train, y_train, cv=kfold, scoring='roc_auc')    \n",
        "    results_c.append(cv_results)\n",
        "    names_c.append(name)\n",
        "    msg = \"%s: %f (%f)\" % (name, cv_results.mean(), cv_results.std())\n",
        "    print(msg)"
      ]
    },
    {
      "cell_type": "markdown",
      "source": [
        "## Best Model - Random Forest"
      ],
      "metadata": {
        "id": "FQaan0g3j7Zo"
      }
    },
    {
      "cell_type": "markdown",
      "source": [
        "### Train on the Dataset"
      ],
      "metadata": {
        "id": "cnCcfuIckCQN"
      }
    },
    {
      "cell_type": "code",
      "execution_count": null,
      "metadata": {
        "colab": {
          "base_uri": "https://localhost:8080/"
        },
        "id": "0A4r8EqiDJIK",
        "outputId": "cd6edf53-711f-4abb-b178-c39dd9a9a581"
      },
      "outputs": [
        {
          "output_type": "execute_result",
          "data": {
            "text/plain": [
              "RandomForestClassifier(random_state=42)"
            ]
          },
          "metadata": {},
          "execution_count": 136
        }
      ],
      "source": [
        "RF = RandomForestClassifier(random_state=42)\n",
        "RF.fit(X_train, y_train)"
      ]
    },
    {
      "cell_type": "code",
      "execution_count": null,
      "metadata": {
        "id": "ZLd0TO43CpPK"
      },
      "outputs": [],
      "source": [
        "predictions = RF.predict(X_test)"
      ]
    },
    {
      "cell_type": "markdown",
      "source": [
        "# Model Evaluation"
      ],
      "metadata": {
        "id": "kny3tXPakHe-"
      }
    },
    {
      "cell_type": "code",
      "execution_count": null,
      "metadata": {
        "colab": {
          "base_uri": "https://localhost:8080/"
        },
        "id": "eVU9w4g6Ez24",
        "outputId": "bc297c93-1ce6-4d05-bfff-f4a2f16620ba"
      },
      "outputs": [
        {
          "output_type": "stream",
          "name": "stdout",
          "text": [
            "0.8931746943245779\n"
          ]
        }
      ],
      "source": [
        "# ROC Score \n",
        "print(roc_auc_score(y_test, predictions))"
      ]
    },
    {
      "cell_type": "code",
      "execution_count": null,
      "metadata": {
        "colab": {
          "base_uri": "https://localhost:8080/"
        },
        "id": "IiMt_IqCEzfF",
        "outputId": "ddee98a3-28d5-4081-a06b-808134fa198f"
      },
      "outputs": [
        {
          "output_type": "stream",
          "name": "stdout",
          "text": [
            "[[7942  211]\n",
            " [ 371 1609]]\n"
          ]
        }
      ],
      "source": [
        "print(confusion_matrix(y_test, predictions))"
      ]
    },
    {
      "cell_type": "code",
      "execution_count": null,
      "metadata": {
        "colab": {
          "base_uri": "https://localhost:8080/"
        },
        "id": "8ZsteqK8EzJO",
        "outputId": "1ff2d6ac-801b-4f6c-b306-b4f46ca4c8d8"
      },
      "outputs": [
        {
          "output_type": "stream",
          "name": "stdout",
          "text": [
            "              precision    recall  f1-score   support\n",
            "\n",
            "           0       0.96      0.97      0.96      8153\n",
            "           1       0.88      0.81      0.85      1980\n",
            "\n",
            "    accuracy                           0.94     10133\n",
            "   macro avg       0.92      0.89      0.91     10133\n",
            "weighted avg       0.94      0.94      0.94     10133\n",
            "\n"
          ]
        }
      ],
      "source": [
        "print(classification_report(y_test, predictions))"
      ]
    },
    {
      "cell_type": "markdown",
      "source": [
        "This project will enable the bank to develop a more granular understanding of its customer base, predict customers' response to its telemarketing campaign and establish a target customer profile for future marketing plans.\n",
        "\n",
        "By analyzing customer features, such as demographics and transaction history, the bank will be able to predict customer saving behaviours and identify which type of customers is more likely to make term deposits. The bank can then focus its marketing efforts on those customers. This will not only allow the bank to secure deposits more effectively but also increase customer satisfaction by reducing undesirable advertisements for certain customers."
      ],
      "metadata": {
        "id": "z42mFYZyEl1k"
      }
    },
    {
      "cell_type": "markdown",
      "source": [
        "The main objective of this project is to identify the most responsive customers before the marketing campaign so that the bank will be able to efficiently reach out to them, saving time and marketing resources. To achieve this objective, classification algorithms will be employed. By analyzing customer statistics, a classification model will be built to classify all clients into two groups: \"yes\" to term deposits and \"no\" to term deposits."
      ],
      "metadata": {
        "id": "YP1Ap5biEa30"
      }
    },
    {
      "cell_type": "markdown",
      "source": [
        "The main objective of this project is to increase the effectiveness of the bank's telemarketing campaign, which was successfully met through data analysis, visualization and analytical model building. A target customer profile was established while classification and regression models were built to predict customers' response to the term deposit campaign.\n",
        "\n",
        "Conclusion:\n",
        "According to previous analysis, a target customer profile can be established. The most responsive customers possess these features:\n",
        "\n",
        "Feature 1: age < 30 or age > 60\n",
        "Feature 2: students or retired people\n",
        "Feature 3: a balance of more than 5000 euros\n",
        "By applying logistic and ridge regression algorithms, classification and estimation model were successfully built. With these two models, the bank will be able to predict a customer's response to its telemarketing campaign before calling this customer. In this way, the bank can allocate more marketing efforts to the clients who are classified as highly likely to accept term deposits, and call less to those who are unlikely to make term deposits.\n",
        "\n",
        "In addition, predicting duration before calling and adjusting marketing plan benefit both the bank and its clients. On the one hand, it will increase the efficiency of the bank’s telemarketing campaign, saving time and efforts. On the other hand, it prevents some clients from receiving undesirable advertisements, raising customer satisfaction. With the aid of logistic and ridge regression models, the bank can enter a virtuous cycle of effective marketing, more investments and happier customers.\n"
      ],
      "metadata": {
        "id": "xgR-SUpdFRDU"
      }
    },
    {
      "cell_type": "code",
      "source": [],
      "metadata": {
        "id": "_-6ewiUMFUo0"
      },
      "execution_count": null,
      "outputs": []
    }
  ],
  "metadata": {
    "colab": {
      "provenance": []
    },
    "kernelspec": {
      "display_name": "Python 3",
      "name": "python3"
    },
    "language_info": {
      "name": "python"
    }
  },
  "nbformat": 4,
  "nbformat_minor": 0
}